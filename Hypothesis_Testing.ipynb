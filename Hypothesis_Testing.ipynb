{
 "cells": [
  {
   "cell_type": "markdown",
   "id": "0828e0bb",
   "metadata": {},
   "source": [
    "#### A F&B manager wants to determine whether there is any significant difference in the diameter of the cutlet between two units. A randomly selected sample of cutlets was collected from both units and measured? Analyze the data and draw inferences at 5% significance level. Please state the assumptions and tests that you carried out to check validity of the assumptions.\n"
   ]
  },
  {
   "cell_type": "markdown",
   "id": "f13f0b43",
   "metadata": {},
   "source": [
    "We can deduce the Null and Alternate hypothesis from the given problem statement\n",
    "\n",
    "Null Hypothesis (H0): There is no difference in the diameter of the cutlet between two units\n",
    "\n",
    "Alternate Hypothesis (Ha): There is a significant difference in the diameter of the cutlet between two units"
   ]
  },
  {
   "cell_type": "code",
   "execution_count": 75,
   "id": "92d326c3",
   "metadata": {},
   "outputs": [],
   "source": [
    "import pandas as pd\n",
    "import numpy as np\n",
    "from scipy.stats import ttest_ind\n",
    "\n",
    "cutlets = pd.read_csv('Cutlets.csv')\n",
    "alpha = 0.05"
   ]
  },
  {
   "cell_type": "code",
   "execution_count": 31,
   "id": "fd3a3827",
   "metadata": {},
   "outputs": [
    {
     "name": "stdout",
     "output_type": "stream",
     "text": [
      "<class 'pandas.core.frame.DataFrame'>\n",
      "RangeIndex: 35 entries, 0 to 34\n",
      "Data columns (total 2 columns):\n",
      " #   Column  Non-Null Count  Dtype  \n",
      "---  ------  --------------  -----  \n",
      " 0   Unit A  35 non-null     float64\n",
      " 1   Unit B  35 non-null     float64\n",
      "dtypes: float64(2)\n",
      "memory usage: 688.0 bytes\n"
     ]
    }
   ],
   "source": [
    "cutlets.info()"
   ]
  },
  {
   "cell_type": "code",
   "execution_count": 32,
   "id": "0626830f",
   "metadata": {},
   "outputs": [
    {
     "data": {
      "text/html": [
       "<div>\n",
       "<style scoped>\n",
       "    .dataframe tbody tr th:only-of-type {\n",
       "        vertical-align: middle;\n",
       "    }\n",
       "\n",
       "    .dataframe tbody tr th {\n",
       "        vertical-align: top;\n",
       "    }\n",
       "\n",
       "    .dataframe thead th {\n",
       "        text-align: right;\n",
       "    }\n",
       "</style>\n",
       "<table border=\"1\" class=\"dataframe\">\n",
       "  <thead>\n",
       "    <tr style=\"text-align: right;\">\n",
       "      <th></th>\n",
       "      <th>Unit A</th>\n",
       "      <th>Unit B</th>\n",
       "    </tr>\n",
       "  </thead>\n",
       "  <tbody>\n",
       "    <tr>\n",
       "      <th>0</th>\n",
       "      <td>6.8090</td>\n",
       "      <td>6.7703</td>\n",
       "    </tr>\n",
       "    <tr>\n",
       "      <th>1</th>\n",
       "      <td>6.4376</td>\n",
       "      <td>7.5093</td>\n",
       "    </tr>\n",
       "    <tr>\n",
       "      <th>2</th>\n",
       "      <td>6.9157</td>\n",
       "      <td>6.7300</td>\n",
       "    </tr>\n",
       "    <tr>\n",
       "      <th>3</th>\n",
       "      <td>7.3012</td>\n",
       "      <td>6.7878</td>\n",
       "    </tr>\n",
       "    <tr>\n",
       "      <th>4</th>\n",
       "      <td>7.4488</td>\n",
       "      <td>7.1522</td>\n",
       "    </tr>\n",
       "  </tbody>\n",
       "</table>\n",
       "</div>"
      ],
      "text/plain": [
       "   Unit A  Unit B\n",
       "0  6.8090  6.7703\n",
       "1  6.4376  7.5093\n",
       "2  6.9157  6.7300\n",
       "3  7.3012  6.7878\n",
       "4  7.4488  7.1522"
      ]
     },
     "execution_count": 32,
     "metadata": {},
     "output_type": "execute_result"
    }
   ],
   "source": [
    "cutlets.head()"
   ]
  },
  {
   "cell_type": "code",
   "execution_count": 33,
   "id": "a7ff816a",
   "metadata": {},
   "outputs": [],
   "source": [
    "A = cutlets['Unit A']\n",
    "B = cutlets['Unit B']"
   ]
  },
  {
   "cell_type": "markdown",
   "id": "01e22d10",
   "metadata": {},
   "source": [
    "Here we have 2 units to compare with and they are not related to each other, Hence we use 2-sample independent t-test for this problem"
   ]
  },
  {
   "cell_type": "code",
   "execution_count": 34,
   "id": "5b41beae",
   "metadata": {},
   "outputs": [
    {
     "data": {
      "text/plain": [
       "0.08317945374789915"
      ]
     },
     "execution_count": 34,
     "metadata": {},
     "output_type": "execute_result"
    }
   ],
   "source": [
    "A.var()"
   ]
  },
  {
   "cell_type": "code",
   "execution_count": 35,
   "id": "baee52db",
   "metadata": {},
   "outputs": [
    {
     "data": {
      "text/plain": [
       "0.11792400440336127"
      ]
     },
     "execution_count": 35,
     "metadata": {},
     "output_type": "execute_result"
    }
   ],
   "source": [
    "B.var()"
   ]
  },
  {
   "cell_type": "code",
   "execution_count": 36,
   "id": "0bc73944",
   "metadata": {},
   "outputs": [
    {
     "name": "stdout",
     "output_type": "stream",
     "text": [
      "0.4723132481914539\n",
      "There is no difference in the diameter of the cutlet between two units\n"
     ]
    }
   ],
   "source": [
    "t_stat, p = ttest_ind(A, B, equal_var=False)\n",
    "print(p)\n",
    "if p < alpha:\n",
    "    print('There is a significant difference in the diameter of the cutlet between two units')\n",
    "else:\n",
    "    print('There is no difference in the diameter of the cutlet between two units')"
   ]
  },
  {
   "cell_type": "markdown",
   "id": "c0bedaff",
   "metadata": {},
   "source": [
    "#### A hospital wants to determine whether there is any difference in the average Turn Around Time (TAT) of reports of the laboratories on their preferred list. They collected a random sample and recorded TAT for reports of 4 laboratories. TAT is defined as sample collected to report dispatch.\n",
    "   \n",
    "#### Analyze the data and determine whether there is any difference in average TAT among the different laboratories at 5% significance level."
   ]
  },
  {
   "cell_type": "markdown",
   "id": "7d87b06f",
   "metadata": {},
   "source": [
    "We can deduce the Null and Alternate hypothesis from the given problem statement\n",
    "\n",
    "Null Hypothesis (H0): There is no difference in the average Turn Around Time (TAT) of reports of the laboratories on their preferred list\n",
    "\n",
    "Alternate Hypothesis (Ha): There is a significant difference in the average Turn Around Time (TAT) of reports of atleast one of the laboratories on their preferred list"
   ]
  },
  {
   "cell_type": "code",
   "execution_count": 37,
   "id": "5f405586",
   "metadata": {},
   "outputs": [],
   "source": [
    "import scipy.stats as stats"
   ]
  },
  {
   "cell_type": "code",
   "execution_count": 38,
   "id": "8a0716a5",
   "metadata": {},
   "outputs": [],
   "source": [
    "lab = pd.read_csv('LabTAT.csv')\n",
    "alpha = 0.05"
   ]
  },
  {
   "cell_type": "code",
   "execution_count": 39,
   "id": "5029de71",
   "metadata": {},
   "outputs": [
    {
     "name": "stdout",
     "output_type": "stream",
     "text": [
      "<class 'pandas.core.frame.DataFrame'>\n",
      "RangeIndex: 120 entries, 0 to 119\n",
      "Data columns (total 4 columns):\n",
      " #   Column        Non-Null Count  Dtype  \n",
      "---  ------        --------------  -----  \n",
      " 0   Laboratory 1  120 non-null    float64\n",
      " 1   Laboratory 2  120 non-null    float64\n",
      " 2   Laboratory 3  120 non-null    float64\n",
      " 3   Laboratory 4  120 non-null    float64\n",
      "dtypes: float64(4)\n",
      "memory usage: 3.9 KB\n"
     ]
    }
   ],
   "source": [
    "lab.info()"
   ]
  },
  {
   "cell_type": "code",
   "execution_count": 40,
   "id": "ce456428",
   "metadata": {},
   "outputs": [
    {
     "data": {
      "text/html": [
       "<div>\n",
       "<style scoped>\n",
       "    .dataframe tbody tr th:only-of-type {\n",
       "        vertical-align: middle;\n",
       "    }\n",
       "\n",
       "    .dataframe tbody tr th {\n",
       "        vertical-align: top;\n",
       "    }\n",
       "\n",
       "    .dataframe thead th {\n",
       "        text-align: right;\n",
       "    }\n",
       "</style>\n",
       "<table border=\"1\" class=\"dataframe\">\n",
       "  <thead>\n",
       "    <tr style=\"text-align: right;\">\n",
       "      <th></th>\n",
       "      <th>Laboratory 1</th>\n",
       "      <th>Laboratory 2</th>\n",
       "      <th>Laboratory 3</th>\n",
       "      <th>Laboratory 4</th>\n",
       "    </tr>\n",
       "  </thead>\n",
       "  <tbody>\n",
       "    <tr>\n",
       "      <th>0</th>\n",
       "      <td>185.35</td>\n",
       "      <td>165.53</td>\n",
       "      <td>176.70</td>\n",
       "      <td>166.13</td>\n",
       "    </tr>\n",
       "    <tr>\n",
       "      <th>1</th>\n",
       "      <td>170.49</td>\n",
       "      <td>185.91</td>\n",
       "      <td>198.45</td>\n",
       "      <td>160.79</td>\n",
       "    </tr>\n",
       "    <tr>\n",
       "      <th>2</th>\n",
       "      <td>192.77</td>\n",
       "      <td>194.92</td>\n",
       "      <td>201.23</td>\n",
       "      <td>185.18</td>\n",
       "    </tr>\n",
       "    <tr>\n",
       "      <th>3</th>\n",
       "      <td>177.33</td>\n",
       "      <td>183.00</td>\n",
       "      <td>199.61</td>\n",
       "      <td>176.42</td>\n",
       "    </tr>\n",
       "    <tr>\n",
       "      <th>4</th>\n",
       "      <td>193.41</td>\n",
       "      <td>169.57</td>\n",
       "      <td>204.63</td>\n",
       "      <td>152.60</td>\n",
       "    </tr>\n",
       "  </tbody>\n",
       "</table>\n",
       "</div>"
      ],
      "text/plain": [
       "   Laboratory 1  Laboratory 2  Laboratory 3  Laboratory 4\n",
       "0        185.35        165.53        176.70        166.13\n",
       "1        170.49        185.91        198.45        160.79\n",
       "2        192.77        194.92        201.23        185.18\n",
       "3        177.33        183.00        199.61        176.42\n",
       "4        193.41        169.57        204.63        152.60"
      ]
     },
     "execution_count": 40,
     "metadata": {},
     "output_type": "execute_result"
    }
   ],
   "source": [
    "lab.head()"
   ]
  },
  {
   "cell_type": "code",
   "execution_count": 41,
   "id": "c947457a",
   "metadata": {},
   "outputs": [],
   "source": [
    "Lab1 = lab['Laboratory 1']\n",
    "Lab2 = lab['Laboratory 2']\n",
    "Lab3 = lab['Laboratory 3']\n",
    "Lab4 = lab['Laboratory 4']"
   ]
  },
  {
   "cell_type": "markdown",
   "id": "8e0d1bcd",
   "metadata": {},
   "source": [
    "ANOVA Assumptions Check"
   ]
  },
  {
   "cell_type": "code",
   "execution_count": 42,
   "id": "1d941915",
   "metadata": {},
   "outputs": [
    {
     "name": "stdout",
     "output_type": "stream",
     "text": [
      "Shapiro\n",
      "0.5506953597068787\n",
      "0.8637524843215942\n",
      "0.4205053448677063\n",
      "0.6618951559066772\n",
      "********************\n",
      "Levene\n",
      "0.05161343808309816\n"
     ]
    }
   ],
   "source": [
    "#1.Shapiro's test for Normality\n",
    "# H0 : Not a Normal distribution\n",
    "# Ha : Normal distribution\n",
    "Labs = [Lab1, Lab2, Lab3, Lab4]\n",
    "print(\"Shapiro\")\n",
    "for i in Labs:\n",
    "    _, psha = stats.shapiro(i)\n",
    "    #print only those which are normal\n",
    "    if psha > alpha:\n",
    "        print(psha)\n",
    "#2.Levene's test for Variance Equality\n",
    "# H0 : Equal variance amongst all\n",
    "# Ha : Violation to the assumption\n",
    "print(\"********************\")\n",
    "print(\"Levene\")\n",
    "lev, plev = stats.levene(Lab1, Lab2, Lab3, Lab4)\n",
    "\n",
    "print(plev)\n",
    "\n",
    "#3.All data are equally sized (from above analysis all the datapoints from labs are 120)"
   ]
  },
  {
   "cell_type": "code",
   "execution_count": 43,
   "id": "8349acf5",
   "metadata": {},
   "outputs": [
    {
     "name": "stdout",
     "output_type": "stream",
     "text": [
      "There is a significant difference in the average Turn Around Time (TAT) of reports of atleast one of the laboratories on their preferred list\n"
     ]
    }
   ],
   "source": [
    "f_statistic, p_value = stats.f_oneway(Lab1,Lab2,Lab3,Lab4)\n",
    "if p_value < alpha:\n",
    "    print('There is a significant difference in the average Turn Around Time (TAT) of reports of atleast one of the laboratories on their preferred list')\n",
    "else:\n",
    "    print('There is no difference in the average Turn Around Time (TAT) of reports of the laboratories on their preferred list')"
   ]
  },
  {
   "cell_type": "markdown",
   "id": "d8427f23",
   "metadata": {},
   "source": [
    "#### Sales of products in four different regions is tabulated for males and females. Find if male-female buyer rations are similar across regions."
   ]
  },
  {
   "attachments": {
    "image.png": {
     "image/png": "[encoded data removed]"
    }
   },
   "cell_type": "markdown",
   "id": "f667b4e0",
   "metadata": {},
   "source": [
    "![image.png](attachment:image.png)"
   ]
  },
  {
   "cell_type": "markdown",
   "id": "7fff4688",
   "metadata": {},
   "source": [
    "We can deduce the Null and Alternate hypothesis from the given problem statement"
   ]
  },
  {
   "cell_type": "markdown",
   "id": "9d0837dd",
   "metadata": {},
   "source": [
    "Null Hypothesis (H0): The male-female buyer ratios are similar across regions.\n",
    "\n",
    "Alternate Hypothesis (Ha): The male-female buyer ratios are not similar across regions."
   ]
  },
  {
   "cell_type": "markdown",
   "id": "1ba78238",
   "metadata": {},
   "source": [
    "Here we are trying to find out whether there is any dependency between male and female, we are using chi-square test"
   ]
  },
  {
   "cell_type": "markdown",
   "id": "eaecd724",
   "metadata": {},
   "source": [
    "Chi-square test\n",
    "\n",
    "Null Hypothesis (H0): There is no association or relationship between the two categorical variables. In other words, the variables are independent of each other.\n",
    "\n",
    "Alternative Hypothesis (Ha): There is a significant association or relationship between the two categorical variables. In other words, the variables are not independent, and there is some form of dependence or association between them."
   ]
  },
  {
   "cell_type": "markdown",
   "id": "2cd2b926",
   "metadata": {},
   "source": [
    "Let's assume this experiment is done in 95% confidence, alpha =0.05"
   ]
  },
  {
   "cell_type": "code",
   "execution_count": 45,
   "id": "2df92499",
   "metadata": {},
   "outputs": [],
   "source": [
    "buyerRatio = pd.read_csv('BuyerRatio.csv')\n",
    "alpha = 0.05"
   ]
  },
  {
   "cell_type": "code",
   "execution_count": 46,
   "id": "62f383eb",
   "metadata": {},
   "outputs": [
    {
     "data": {
      "text/html": [
       "<div>\n",
       "<style scoped>\n",
       "    .dataframe tbody tr th:only-of-type {\n",
       "        vertical-align: middle;\n",
       "    }\n",
       "\n",
       "    .dataframe tbody tr th {\n",
       "        vertical-align: top;\n",
       "    }\n",
       "\n",
       "    .dataframe thead th {\n",
       "        text-align: right;\n",
       "    }\n",
       "</style>\n",
       "<table border=\"1\" class=\"dataframe\">\n",
       "  <thead>\n",
       "    <tr style=\"text-align: right;\">\n",
       "      <th></th>\n",
       "      <th>Observed Values</th>\n",
       "      <th>East</th>\n",
       "      <th>West</th>\n",
       "      <th>North</th>\n",
       "      <th>South</th>\n",
       "    </tr>\n",
       "  </thead>\n",
       "  <tbody>\n",
       "    <tr>\n",
       "      <th>0</th>\n",
       "      <td>Males</td>\n",
       "      <td>50</td>\n",
       "      <td>142</td>\n",
       "      <td>131</td>\n",
       "      <td>70</td>\n",
       "    </tr>\n",
       "    <tr>\n",
       "      <th>1</th>\n",
       "      <td>Females</td>\n",
       "      <td>435</td>\n",
       "      <td>1523</td>\n",
       "      <td>1356</td>\n",
       "      <td>750</td>\n",
       "    </tr>\n",
       "  </tbody>\n",
       "</table>\n",
       "</div>"
      ],
      "text/plain": [
       "  Observed Values  East  West  North  South\n",
       "0           Males    50   142    131     70\n",
       "1         Females   435  1523   1356    750"
      ]
     },
     "execution_count": 46,
     "metadata": {},
     "output_type": "execute_result"
    }
   ],
   "source": [
    "buyerRatio.head()"
   ]
  },
  {
   "cell_type": "code",
   "execution_count": 50,
   "id": "fa6fb635",
   "metadata": {},
   "outputs": [
    {
     "data": {
      "text/html": [
       "<div>\n",
       "<style scoped>\n",
       "    .dataframe tbody tr th:only-of-type {\n",
       "        vertical-align: middle;\n",
       "    }\n",
       "\n",
       "    .dataframe tbody tr th {\n",
       "        vertical-align: top;\n",
       "    }\n",
       "\n",
       "    .dataframe thead th {\n",
       "        text-align: right;\n",
       "    }\n",
       "</style>\n",
       "<table border=\"1\" class=\"dataframe\">\n",
       "  <thead>\n",
       "    <tr style=\"text-align: right;\">\n",
       "      <th></th>\n",
       "      <th>East</th>\n",
       "      <th>West</th>\n",
       "      <th>North</th>\n",
       "      <th>South</th>\n",
       "    </tr>\n",
       "  </thead>\n",
       "  <tbody>\n",
       "    <tr>\n",
       "      <th>0</th>\n",
       "      <td>50</td>\n",
       "      <td>142</td>\n",
       "      <td>131</td>\n",
       "      <td>70</td>\n",
       "    </tr>\n",
       "    <tr>\n",
       "      <th>1</th>\n",
       "      <td>435</td>\n",
       "      <td>1523</td>\n",
       "      <td>1356</td>\n",
       "      <td>750</td>\n",
       "    </tr>\n",
       "  </tbody>\n",
       "</table>\n",
       "</div>"
      ],
      "text/plain": [
       "   East  West  North  South\n",
       "0    50   142    131     70\n",
       "1   435  1523   1356    750"
      ]
     },
     "execution_count": 50,
     "metadata": {},
     "output_type": "execute_result"
    }
   ],
   "source": [
    "buyerRatio.iloc[:,1:]"
   ]
  },
  {
   "cell_type": "code",
   "execution_count": 51,
   "id": "3f1c1a3f",
   "metadata": {},
   "outputs": [],
   "source": [
    "contingency_table = buyerRatio.iloc[:,1:].values.astype(int)"
   ]
  },
  {
   "cell_type": "code",
   "execution_count": 52,
   "id": "50eaed5d",
   "metadata": {},
   "outputs": [
    {
     "data": {
      "text/plain": [
       "array([[  50,  142,  131,   70],\n",
       "       [ 435, 1523, 1356,  750]])"
      ]
     },
     "execution_count": 52,
     "metadata": {},
     "output_type": "execute_result"
    }
   ],
   "source": [
    "contingency_table"
   ]
  },
  {
   "cell_type": "code",
   "execution_count": 53,
   "id": "cb760ec7",
   "metadata": {},
   "outputs": [],
   "source": [
    "chi_value, p, dof, expec_freqs = stats.chi2_contingency(contingency_table)"
   ]
  },
  {
   "cell_type": "code",
   "execution_count": 55,
   "id": "0e8b0f77",
   "metadata": {},
   "outputs": [
    {
     "name": "stdout",
     "output_type": "stream",
     "text": [
      "The male-female buyer ratios are similar across regions.\n"
     ]
    }
   ],
   "source": [
    "if p < alpha:\n",
    "    print('The male-female buyer ratios are not similar across regions.')\n",
    "else:\n",
    "    print('The male-female buyer ratios are similar across regions.')"
   ]
  },
  {
   "cell_type": "markdown",
   "id": "cbe9714a",
   "metadata": {},
   "source": [
    "#### TeleCall uses 4 centers around the globe to process customer order forms. They audit a certain %  of the customer order forms. Any error in order form renders it defective and has to be reworked before processing.  The manager wants to check whether the defective %  varies by centre. Please analyze the data at 5% significance level and help the manager draw appropriate inferences\n"
   ]
  },
  {
   "cell_type": "markdown",
   "id": "65756258",
   "metadata": {},
   "source": [
    "We can deduce the Null and Alternate hypothesis from the given problem statement\n",
    "\n",
    "Null Hypothesis (H0): The defective % is similar across centers.\n",
    "\n",
    "Alternate Hypothesis (Ha): The defective % varies by centre across centers."
   ]
  },
  {
   "cell_type": "code",
   "execution_count": 60,
   "id": "a7fb8760",
   "metadata": {},
   "outputs": [],
   "source": [
    "customerOrder = pd.read_csv('Costomer+OrderForm.csv')\n",
    "alpha = 0.05"
   ]
  },
  {
   "cell_type": "code",
   "execution_count": 59,
   "id": "1e841b23",
   "metadata": {},
   "outputs": [
    {
     "data": {
      "text/html": [
       "<div>\n",
       "<style scoped>\n",
       "    .dataframe tbody tr th:only-of-type {\n",
       "        vertical-align: middle;\n",
       "    }\n",
       "\n",
       "    .dataframe tbody tr th {\n",
       "        vertical-align: top;\n",
       "    }\n",
       "\n",
       "    .dataframe thead th {\n",
       "        text-align: right;\n",
       "    }\n",
       "</style>\n",
       "<table border=\"1\" class=\"dataframe\">\n",
       "  <thead>\n",
       "    <tr style=\"text-align: right;\">\n",
       "      <th></th>\n",
       "      <th>Phillippines</th>\n",
       "      <th>Indonesia</th>\n",
       "      <th>Malta</th>\n",
       "      <th>India</th>\n",
       "    </tr>\n",
       "  </thead>\n",
       "  <tbody>\n",
       "    <tr>\n",
       "      <th>0</th>\n",
       "      <td>Error Free</td>\n",
       "      <td>Error Free</td>\n",
       "      <td>Defective</td>\n",
       "      <td>Error Free</td>\n",
       "    </tr>\n",
       "    <tr>\n",
       "      <th>1</th>\n",
       "      <td>Error Free</td>\n",
       "      <td>Error Free</td>\n",
       "      <td>Error Free</td>\n",
       "      <td>Defective</td>\n",
       "    </tr>\n",
       "    <tr>\n",
       "      <th>2</th>\n",
       "      <td>Error Free</td>\n",
       "      <td>Defective</td>\n",
       "      <td>Defective</td>\n",
       "      <td>Error Free</td>\n",
       "    </tr>\n",
       "    <tr>\n",
       "      <th>3</th>\n",
       "      <td>Error Free</td>\n",
       "      <td>Error Free</td>\n",
       "      <td>Error Free</td>\n",
       "      <td>Error Free</td>\n",
       "    </tr>\n",
       "    <tr>\n",
       "      <th>4</th>\n",
       "      <td>Error Free</td>\n",
       "      <td>Error Free</td>\n",
       "      <td>Defective</td>\n",
       "      <td>Error Free</td>\n",
       "    </tr>\n",
       "  </tbody>\n",
       "</table>\n",
       "</div>"
      ],
      "text/plain": [
       "  Phillippines   Indonesia       Malta       India\n",
       "0   Error Free  Error Free   Defective  Error Free\n",
       "1   Error Free  Error Free  Error Free   Defective\n",
       "2   Error Free   Defective   Defective  Error Free\n",
       "3   Error Free  Error Free  Error Free  Error Free\n",
       "4   Error Free  Error Free   Defective  Error Free"
      ]
     },
     "execution_count": 59,
     "metadata": {},
     "output_type": "execute_result"
    }
   ],
   "source": [
    "customerOrder.head()"
   ]
  },
  {
   "cell_type": "code",
   "execution_count": 73,
   "id": "6a83c6f4",
   "metadata": {},
   "outputs": [
    {
     "name": "stdout",
     "output_type": "stream",
     "text": [
      "Error Free    90.333333\n",
      "Defective      9.666667\n",
      "Name: Phillippines, dtype: float64\n",
      "Error Free    89.0\n",
      "Defective     11.0\n",
      "Name: Indonesia, dtype: float64\n",
      "Error Free    89.666667\n",
      "Defective     10.333333\n",
      "Name: Malta, dtype: float64\n",
      "Error Free    93.333333\n",
      "Defective      6.666667\n",
      "Name: India, dtype: float64\n"
     ]
    }
   ],
   "source": [
    "for i in customerOrder.columns:\n",
    "    print((customerOrder[i].value_counts())/len(customerOrder)*100)"
   ]
  },
  {
   "cell_type": "code",
   "execution_count": 76,
   "id": "051f9460",
   "metadata": {},
   "outputs": [],
   "source": [
    "contingency_table = np.array([[90.33, 89.0, 89.66, 93.33],\n",
    "                              [9.66, 11.0, 10.33, 6.66]])"
   ]
  },
  {
   "cell_type": "code",
   "execution_count": 77,
   "id": "8313a2dd",
   "metadata": {},
   "outputs": [
    {
     "data": {
      "text/plain": [
       "array([[90.33, 89.  , 89.66, 93.33],\n",
       "       [ 9.66, 11.  , 10.33,  6.66]])"
      ]
     },
     "execution_count": 77,
     "metadata": {},
     "output_type": "execute_result"
    }
   ],
   "source": [
    "contingency_table"
   ]
  },
  {
   "cell_type": "code",
   "execution_count": 80,
   "id": "853e69b0",
   "metadata": {},
   "outputs": [
    {
     "data": {
      "text/plain": [
       "0.7315829673152578"
      ]
     },
     "execution_count": 80,
     "metadata": {},
     "output_type": "execute_result"
    }
   ],
   "source": [
    "chi_value, p, dof, expec_freqs = stats.chi2_contingency(contingency_table)\n",
    "p"
   ]
  },
  {
   "cell_type": "code",
   "execution_count": 79,
   "id": "9411f71f",
   "metadata": {},
   "outputs": [
    {
     "name": "stdout",
     "output_type": "stream",
     "text": [
      "The defective % is similar across centers.\n"
     ]
    }
   ],
   "source": [
    "if p < alpha:\n",
    "    print('The defective % varies by centre across centers.')\n",
    "else:\n",
    "    print('The defective % is similar across centers.')"
   ]
  },
  {
   "cell_type": "markdown",
   "id": "cb3eeefc",
   "metadata": {},
   "source": [
    "The manager can conclude that there is no evidence to suggest that the centers are performing differently in terms of order form defects based on the provided data."
   ]
  },
  {
   "cell_type": "code",
   "execution_count": null,
   "id": "85d08d23",
   "metadata": {},
   "outputs": [],
   "source": []
  }
 ],
 "metadata": {
  "kernelspec": {
   "display_name": "Python 3 (ipykernel)",
   "language": "python",
   "name": "python3"
  },
  "language_info": {
   "codemirror_mode": {
    "name": "ipython",
    "version": 3
   },
   "file_extension": ".py",
   "mimetype": "text/x-python",
   "name": "python",
   "nbconvert_exporter": "python",
   "pygments_lexer": "ipython3",
   "version": "3.9.12"
  }
 },
 "nbformat": 4,
 "nbformat_minor": 5
}
