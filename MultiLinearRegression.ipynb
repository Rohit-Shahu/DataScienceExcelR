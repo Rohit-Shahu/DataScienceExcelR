{
 "cells": [
  {
   "cell_type": "code",
   "execution_count": 1,
   "id": "f77b1ad6",
   "metadata": {},
   "outputs": [],
   "source": [
    "import pandas as pd\n",
    "import numpy as np\n",
    "import seaborn as sns\n",
    "from matplotlib import pyplot as plt\n",
    "\n",
    "import statsmodels.formula.api as smf\n",
    "from statsmodels.stats.outliers_influence import variance_inflation_factor"
   ]
  },
  {
   "cell_type": "markdown",
   "id": "ce0a4687",
   "metadata": {},
   "source": [
    "### Problem Statement 1"
   ]
  },
  {
   "cell_type": "markdown",
   "id": "f6c0f9ad",
   "metadata": {},
   "source": [
    "Prepare a prediction model for profit of 50_startups data.<br>\n",
    "Do transformations for getting better predictions of profit and\n",
    "make a table containing R^2 value for each prepared model.<br>\n",
    "\n",
    "R&D Spend -- Research and devolop spend in the past few years<br>\n",
    "Administration -- spend on administration in the past few years<br>\n",
    "Marketing Spend -- spend on Marketing in the past few years<br>\n",
    "State -- states from which data is collected<br>\n",
    "Profit  -- profit of each state in the past few years<br>"
   ]
  },
  {
   "cell_type": "code",
   "execution_count": 2,
   "id": "18500ae1",
   "metadata": {},
   "outputs": [],
   "source": [
    "startups = pd.read_csv('50_Startups.csv')"
   ]
  },
  {
   "cell_type": "code",
   "execution_count": 3,
   "id": "bd2f2c0f",
   "metadata": {},
   "outputs": [
    {
     "data": {
      "text/html": [
       "<div>\n",
       "<style scoped>\n",
       "    .dataframe tbody tr th:only-of-type {\n",
       "        vertical-align: middle;\n",
       "    }\n",
       "\n",
       "    .dataframe tbody tr th {\n",
       "        vertical-align: top;\n",
       "    }\n",
       "\n",
       "    .dataframe thead th {\n",
       "        text-align: right;\n",
       "    }\n",
       "</style>\n",
       "<table border=\"1\" class=\"dataframe\">\n",
       "  <thead>\n",
       "    <tr style=\"text-align: right;\">\n",
       "      <th></th>\n",
       "      <th>R&amp;D Spend</th>\n",
       "      <th>Administration</th>\n",
       "      <th>Marketing Spend</th>\n",
       "      <th>State</th>\n",
       "      <th>Profit</th>\n",
       "    </tr>\n",
       "  </thead>\n",
       "  <tbody>\n",
       "    <tr>\n",
       "      <th>0</th>\n",
       "      <td>165349.20</td>\n",
       "      <td>136897.80</td>\n",
       "      <td>471784.10</td>\n",
       "      <td>New York</td>\n",
       "      <td>192261.83</td>\n",
       "    </tr>\n",
       "    <tr>\n",
       "      <th>1</th>\n",
       "      <td>162597.70</td>\n",
       "      <td>151377.59</td>\n",
       "      <td>443898.53</td>\n",
       "      <td>California</td>\n",
       "      <td>191792.06</td>\n",
       "    </tr>\n",
       "    <tr>\n",
       "      <th>2</th>\n",
       "      <td>153441.51</td>\n",
       "      <td>101145.55</td>\n",
       "      <td>407934.54</td>\n",
       "      <td>Florida</td>\n",
       "      <td>191050.39</td>\n",
       "    </tr>\n",
       "    <tr>\n",
       "      <th>3</th>\n",
       "      <td>144372.41</td>\n",
       "      <td>118671.85</td>\n",
       "      <td>383199.62</td>\n",
       "      <td>New York</td>\n",
       "      <td>182901.99</td>\n",
       "    </tr>\n",
       "    <tr>\n",
       "      <th>4</th>\n",
       "      <td>142107.34</td>\n",
       "      <td>91391.77</td>\n",
       "      <td>366168.42</td>\n",
       "      <td>Florida</td>\n",
       "      <td>166187.94</td>\n",
       "    </tr>\n",
       "  </tbody>\n",
       "</table>\n",
       "</div>"
      ],
      "text/plain": [
       "   R&D Spend  Administration  Marketing Spend       State     Profit\n",
       "0  165349.20       136897.80        471784.10    New York  192261.83\n",
       "1  162597.70       151377.59        443898.53  California  191792.06\n",
       "2  153441.51       101145.55        407934.54     Florida  191050.39\n",
       "3  144372.41       118671.85        383199.62    New York  182901.99\n",
       "4  142107.34        91391.77        366168.42     Florida  166187.94"
      ]
     },
     "execution_count": 3,
     "metadata": {},
     "output_type": "execute_result"
    }
   ],
   "source": [
    "startups.head()"
   ]
  },
  {
   "cell_type": "markdown",
   "id": "ecb0dcbb",
   "metadata": {},
   "source": [
    "Since the model doesn't consider textual data we can do One-hot encoding to the categorical x variable State"
   ]
  },
  {
   "cell_type": "code",
   "execution_count": 4,
   "id": "98a6d72e",
   "metadata": {},
   "outputs": [
    {
     "name": "stdout",
     "output_type": "stream",
     "text": [
      "<class 'pandas.core.frame.DataFrame'>\n",
      "RangeIndex: 50 entries, 0 to 49\n",
      "Data columns (total 5 columns):\n",
      " #   Column           Non-Null Count  Dtype  \n",
      "---  ------           --------------  -----  \n",
      " 0   R&D Spend        50 non-null     float64\n",
      " 1   Administration   50 non-null     float64\n",
      " 2   Marketing Spend  50 non-null     float64\n",
      " 3   State            50 non-null     object \n",
      " 4   Profit           50 non-null     float64\n",
      "dtypes: float64(4), object(1)\n",
      "memory usage: 2.1+ KB\n"
     ]
    }
   ],
   "source": [
    "startups.info()"
   ]
  },
  {
   "cell_type": "code",
   "execution_count": 5,
   "id": "1e027a69",
   "metadata": {},
   "outputs": [
    {
     "data": {
      "text/html": [
       "<div>\n",
       "<style scoped>\n",
       "    .dataframe tbody tr th:only-of-type {\n",
       "        vertical-align: middle;\n",
       "    }\n",
       "\n",
       "    .dataframe tbody tr th {\n",
       "        vertical-align: top;\n",
       "    }\n",
       "\n",
       "    .dataframe thead th {\n",
       "        text-align: right;\n",
       "    }\n",
       "</style>\n",
       "<table border=\"1\" class=\"dataframe\">\n",
       "  <thead>\n",
       "    <tr style=\"text-align: right;\">\n",
       "      <th></th>\n",
       "      <th>count</th>\n",
       "      <th>mean</th>\n",
       "      <th>std</th>\n",
       "      <th>min</th>\n",
       "      <th>25%</th>\n",
       "      <th>50%</th>\n",
       "      <th>75%</th>\n",
       "      <th>max</th>\n",
       "    </tr>\n",
       "  </thead>\n",
       "  <tbody>\n",
       "    <tr>\n",
       "      <th>R&amp;D Spend</th>\n",
       "      <td>50.0</td>\n",
       "      <td>73721.6156</td>\n",
       "      <td>45902.256482</td>\n",
       "      <td>0.00</td>\n",
       "      <td>39936.3700</td>\n",
       "      <td>73051.080</td>\n",
       "      <td>101602.8000</td>\n",
       "      <td>165349.20</td>\n",
       "    </tr>\n",
       "    <tr>\n",
       "      <th>Administration</th>\n",
       "      <td>50.0</td>\n",
       "      <td>121344.6396</td>\n",
       "      <td>28017.802755</td>\n",
       "      <td>51283.14</td>\n",
       "      <td>103730.8750</td>\n",
       "      <td>122699.795</td>\n",
       "      <td>144842.1800</td>\n",
       "      <td>182645.56</td>\n",
       "    </tr>\n",
       "    <tr>\n",
       "      <th>Marketing Spend</th>\n",
       "      <td>50.0</td>\n",
       "      <td>211025.0978</td>\n",
       "      <td>122290.310726</td>\n",
       "      <td>0.00</td>\n",
       "      <td>129300.1325</td>\n",
       "      <td>212716.240</td>\n",
       "      <td>299469.0850</td>\n",
       "      <td>471784.10</td>\n",
       "    </tr>\n",
       "    <tr>\n",
       "      <th>Profit</th>\n",
       "      <td>50.0</td>\n",
       "      <td>112012.6392</td>\n",
       "      <td>40306.180338</td>\n",
       "      <td>14681.40</td>\n",
       "      <td>90138.9025</td>\n",
       "      <td>107978.190</td>\n",
       "      <td>139765.9775</td>\n",
       "      <td>192261.83</td>\n",
       "    </tr>\n",
       "  </tbody>\n",
       "</table>\n",
       "</div>"
      ],
      "text/plain": [
       "                 count         mean            std       min          25%  \\\n",
       "R&D Spend         50.0   73721.6156   45902.256482      0.00   39936.3700   \n",
       "Administration    50.0  121344.6396   28017.802755  51283.14  103730.8750   \n",
       "Marketing Spend   50.0  211025.0978  122290.310726      0.00  129300.1325   \n",
       "Profit            50.0  112012.6392   40306.180338  14681.40   90138.9025   \n",
       "\n",
       "                        50%          75%        max  \n",
       "R&D Spend         73051.080  101602.8000  165349.20  \n",
       "Administration   122699.795  144842.1800  182645.56  \n",
       "Marketing Spend  212716.240  299469.0850  471784.10  \n",
       "Profit           107978.190  139765.9775  192261.83  "
      ]
     },
     "execution_count": 5,
     "metadata": {},
     "output_type": "execute_result"
    }
   ],
   "source": [
    "startups.describe().T"
   ]
  },
  {
   "cell_type": "markdown",
   "id": "d3322e7a",
   "metadata": {},
   "source": [
    "Checking the distributions of Numerical X variables"
   ]
  },
  {
   "cell_type": "code",
   "execution_count": 6,
   "id": "cb0d7eb8",
   "metadata": {},
   "outputs": [
    {
     "data": {
      "image/png": "[encoded data removed]",
      "text/plain": [
       "<Figure size 432x288 with 1 Axes>"
      ]
     },
     "metadata": {
      "needs_background": "light"
     },
     "output_type": "display_data"
    },
    {
     "data": {
      "image/png": "[encoded data removed]",
      "text/plain": [
       "<Figure size 432x288 with 1 Axes>"
      ]
     },
     "metadata": {
      "needs_background": "light"
     },
     "output_type": "display_data"
    },
    {
     "data": {
      "image/png": "[encoded data removed]",
      "text/plain": [
       "<Figure size 432x288 with 1 Axes>"
      ]
     },
     "metadata": {
      "needs_background": "light"
     },
     "output_type": "display_data"
    }
   ],
   "source": [
    "cols = startups.iloc[:,0:3]\n",
    "for i in cols:    \n",
    "    sns.boxplot(x=i, data = startups)\n",
    "    plt.show()"
   ]
  },
  {
   "cell_type": "markdown",
   "id": "0026e72b",
   "metadata": {},
   "source": [
    "Renaming the column names to make sure that there are no spaces in between"
   ]
  },
  {
   "cell_type": "code",
   "execution_count": 7,
   "id": "7f7f625b",
   "metadata": {},
   "outputs": [
    {
     "data": {
      "text/plain": [
       "New York      17\n",
       "California    17\n",
       "Florida       16\n",
       "Name: State, dtype: int64"
      ]
     },
     "execution_count": 7,
     "metadata": {},
     "output_type": "execute_result"
    }
   ],
   "source": [
    "startups['State'].value_counts()"
   ]
  },
  {
   "cell_type": "code",
   "execution_count": 8,
   "id": "2013266f",
   "metadata": {},
   "outputs": [],
   "source": [
    "startups = pd.get_dummies(startups, columns=['State'], drop_first=True)"
   ]
  },
  {
   "cell_type": "code",
   "execution_count": 9,
   "id": "21ab71bf",
   "metadata": {},
   "outputs": [
    {
     "name": "stdout",
     "output_type": "stream",
     "text": [
      "<class 'pandas.core.frame.DataFrame'>\n",
      "RangeIndex: 50 entries, 0 to 49\n",
      "Data columns (total 6 columns):\n",
      " #   Column           Non-Null Count  Dtype  \n",
      "---  ------           --------------  -----  \n",
      " 0   R&D Spend        50 non-null     float64\n",
      " 1   Administration   50 non-null     float64\n",
      " 2   Marketing Spend  50 non-null     float64\n",
      " 3   Profit           50 non-null     float64\n",
      " 4   State_Florida    50 non-null     uint8  \n",
      " 5   State_New York   50 non-null     uint8  \n",
      "dtypes: float64(4), uint8(2)\n",
      "memory usage: 1.8 KB\n"
     ]
    }
   ],
   "source": [
    "startups.info()"
   ]
  },
  {
   "cell_type": "code",
   "execution_count": 10,
   "id": "2817e805",
   "metadata": {},
   "outputs": [],
   "source": [
    "startups.rename(columns={'Marketing Spend': 'Marketing_Spend', 'R&D Spend': 'RD_Spend', 'State_New York':'State_NewYork'}, inplace=True)"
   ]
  },
  {
   "cell_type": "code",
   "execution_count": 11,
   "id": "15153683",
   "metadata": {},
   "outputs": [
    {
     "data": {
      "text/html": [
       "<div>\n",
       "<style scoped>\n",
       "    .dataframe tbody tr th:only-of-type {\n",
       "        vertical-align: middle;\n",
       "    }\n",
       "\n",
       "    .dataframe tbody tr th {\n",
       "        vertical-align: top;\n",
       "    }\n",
       "\n",
       "    .dataframe thead th {\n",
       "        text-align: right;\n",
       "    }\n",
       "</style>\n",
       "<table border=\"1\" class=\"dataframe\">\n",
       "  <thead>\n",
       "    <tr style=\"text-align: right;\">\n",
       "      <th></th>\n",
       "      <th>RD_Spend</th>\n",
       "      <th>Administration</th>\n",
       "      <th>Marketing_Spend</th>\n",
       "      <th>Profit</th>\n",
       "    </tr>\n",
       "  </thead>\n",
       "  <tbody>\n",
       "    <tr>\n",
       "      <th>RD_Spend</th>\n",
       "      <td>1.000000</td>\n",
       "      <td>0.241955</td>\n",
       "      <td>0.724248</td>\n",
       "      <td>0.972900</td>\n",
       "    </tr>\n",
       "    <tr>\n",
       "      <th>Administration</th>\n",
       "      <td>0.241955</td>\n",
       "      <td>1.000000</td>\n",
       "      <td>-0.032154</td>\n",
       "      <td>0.200717</td>\n",
       "    </tr>\n",
       "    <tr>\n",
       "      <th>Marketing_Spend</th>\n",
       "      <td>0.724248</td>\n",
       "      <td>-0.032154</td>\n",
       "      <td>1.000000</td>\n",
       "      <td>0.747766</td>\n",
       "    </tr>\n",
       "    <tr>\n",
       "      <th>Profit</th>\n",
       "      <td>0.972900</td>\n",
       "      <td>0.200717</td>\n",
       "      <td>0.747766</td>\n",
       "      <td>1.000000</td>\n",
       "    </tr>\n",
       "  </tbody>\n",
       "</table>\n",
       "</div>"
      ],
      "text/plain": [
       "                 RD_Spend  Administration  Marketing_Spend    Profit\n",
       "RD_Spend         1.000000        0.241955         0.724248  0.972900\n",
       "Administration   0.241955        1.000000        -0.032154  0.200717\n",
       "Marketing_Spend  0.724248       -0.032154         1.000000  0.747766\n",
       "Profit           0.972900        0.200717         0.747766  1.000000"
      ]
     },
     "execution_count": 11,
     "metadata": {},
     "output_type": "execute_result"
    }
   ],
   "source": [
    "startups.iloc[:,0:4].corr()"
   ]
  },
  {
   "cell_type": "code",
   "execution_count": 12,
   "id": "a0f567d4",
   "metadata": {},
   "outputs": [
    {
     "data": {
      "image/png": "[encoded data removed]",
      "text/plain": [
       "<Figure size 432x288 with 2 Axes>"
      ]
     },
     "metadata": {
      "needs_background": "light"
     },
     "output_type": "display_data"
    }
   ],
   "source": [
    "sns.heatmap(startups.iloc[:,0:4].corr(), annot=True, vmax=1, vmin=-1, cmap='BuPu')\n",
    "plt.show()"
   ]
  },
  {
   "cell_type": "markdown",
   "id": "d095d2bc",
   "metadata": {},
   "source": [
    "From the above heatmap, we can say that:<br>\n",
    " -> R&DSpend is highly correlated with the target variable Profit<br>\n",
    " -> Marketing Spend is highly correlated with the target variable Profit<br>\n",
    " -> Within the independent variables, R&DSpend and Marketing Spend are correlated<br>+\n",
    " This is the case of Collinearity"
   ]
  },
  {
   "cell_type": "code",
   "execution_count": 13,
   "id": "7ecec265",
   "metadata": {},
   "outputs": [],
   "source": [
    "RSquared_table = pd.DataFrame(columns=['Model_Name','AdjRSquared'])"
   ]
  },
  {
   "cell_type": "code",
   "execution_count": 14,
   "id": "896176be",
   "metadata": {},
   "outputs": [
    {
     "name": "stderr",
     "output_type": "stream",
     "text": [
      "C:\\Users\\sailo\\AppData\\Local\\Temp\\ipykernel_20444\\2783963380.py:5: FutureWarning: The frame.append method is deprecated and will be removed from pandas in a future version. Use pandas.concat instead.\n",
      "  RSquared_table = RSquared_table.append({'Model_Name': 'Model1', 'AdjRSquared': MLR1.rsquared_adj}, ignore_index=True)\n"
     ]
    }
   ],
   "source": [
    "formula = 'Profit~RD_Spend+Administration+Marketing_Spend+State_Florida+State_NewYork'\n",
    "MLR1 = smf.ols(formula,data=startups).fit()\n",
    "MLR1.summary()\n",
    "\n",
    "RSquared_table = RSquared_table.append({'Model_Name': 'Model1', 'AdjRSquared': MLR1.rsquared_adj}, ignore_index=True)"
   ]
  },
  {
   "cell_type": "markdown",
   "id": "249dc95c",
   "metadata": {},
   "source": [
    "#### Let us try to find cook's distance to find any influential points are there in the data"
   ]
  },
  {
   "cell_type": "code",
   "execution_count": 15,
   "id": "18c6d8f8",
   "metadata": {},
   "outputs": [],
   "source": [
    "model_influence = MLR1.get_influence()\n",
    "(c, _) = model_influence.cooks_distance"
   ]
  },
  {
   "cell_type": "code",
   "execution_count": 16,
   "id": "1e470282",
   "metadata": {},
   "outputs": [
    {
     "data": {
      "image/png": "[encoded data removed]",
      "text/plain": [
       "<Figure size 1440x504 with 1 Axes>"
      ]
     },
     "metadata": {
      "needs_background": "light"
     },
     "output_type": "display_data"
    }
   ],
   "source": [
    "fig = plt.subplots(figsize=(20, 7))\n",
    "plt.stem(np.arange(len(startups)), np.round(c, 3))\n",
    "plt.xlabel('Row index')\n",
    "plt.ylabel('Cooks Distance')\n",
    "plt.show()"
   ]
  },
  {
   "cell_type": "code",
   "execution_count": 17,
   "id": "96ca1c29",
   "metadata": {},
   "outputs": [
    {
     "data": {
      "text/plain": [
       "(49, 0.2639594358718263)"
      ]
     },
     "execution_count": 17,
     "metadata": {},
     "output_type": "execute_result"
    }
   ],
   "source": [
    "(np.argmax(c),np.max(c))"
   ]
  },
  {
   "cell_type": "code",
   "execution_count": 18,
   "id": "021062e5",
   "metadata": {},
   "outputs": [
    {
     "data": {
      "image/png": "[encoded data removed]",
      "text/plain": [
       "<Figure size 432x288 with 1 Axes>"
      ]
     },
     "metadata": {
      "needs_background": "light"
     },
     "output_type": "display_data"
    }
   ],
   "source": [
    "from statsmodels.graphics.regressionplots import influence_plot\n",
    "influence_plot(MLR1)\n",
    "plt.show()"
   ]
  },
  {
   "cell_type": "markdown",
   "id": "9eb724de",
   "metadata": {},
   "source": [
    "#### In the above plot we can see that 48 and 49 seem to influence our model coefficients hence let's try to remove them and try re-running the model"
   ]
  },
  {
   "cell_type": "code",
   "execution_count": 19,
   "id": "d0c74f55",
   "metadata": {},
   "outputs": [
    {
     "data": {
      "text/plain": [
       "0.42000000000000004"
      ]
     },
     "execution_count": 19,
     "metadata": {},
     "output_type": "execute_result"
    }
   ],
   "source": [
    "k = startups.shape[1]\n",
    "n = startups.shape[0]\n",
    "leverage_cutoff = 3*((k + 1)/n)\n",
    "leverage_cutoff"
   ]
  },
  {
   "cell_type": "code",
   "execution_count": 20,
   "id": "2b821761",
   "metadata": {},
   "outputs": [
    {
     "data": {
      "text/html": [
       "<div>\n",
       "<style scoped>\n",
       "    .dataframe tbody tr th:only-of-type {\n",
       "        vertical-align: middle;\n",
       "    }\n",
       "\n",
       "    .dataframe tbody tr th {\n",
       "        vertical-align: top;\n",
       "    }\n",
       "\n",
       "    .dataframe thead th {\n",
       "        text-align: right;\n",
       "    }\n",
       "</style>\n",
       "<table border=\"1\" class=\"dataframe\">\n",
       "  <thead>\n",
       "    <tr style=\"text-align: right;\">\n",
       "      <th></th>\n",
       "      <th>RD_Spend</th>\n",
       "      <th>Administration</th>\n",
       "      <th>Marketing_Spend</th>\n",
       "      <th>Profit</th>\n",
       "      <th>State_Florida</th>\n",
       "      <th>State_NewYork</th>\n",
       "    </tr>\n",
       "  </thead>\n",
       "  <tbody>\n",
       "    <tr>\n",
       "      <th>48</th>\n",
       "      <td>542.05</td>\n",
       "      <td>51743.15</td>\n",
       "      <td>0.00</td>\n",
       "      <td>35673.41</td>\n",
       "      <td>0</td>\n",
       "      <td>1</td>\n",
       "    </tr>\n",
       "    <tr>\n",
       "      <th>49</th>\n",
       "      <td>0.00</td>\n",
       "      <td>116983.80</td>\n",
       "      <td>45173.06</td>\n",
       "      <td>14681.40</td>\n",
       "      <td>0</td>\n",
       "      <td>0</td>\n",
       "    </tr>\n",
       "  </tbody>\n",
       "</table>\n",
       "</div>"
      ],
      "text/plain": [
       "    RD_Spend  Administration  Marketing_Spend    Profit  State_Florida  \\\n",
       "48    542.05        51743.15             0.00  35673.41              0   \n",
       "49      0.00       116983.80         45173.06  14681.40              0   \n",
       "\n",
       "    State_NewYork  \n",
       "48              1  \n",
       "49              0  "
      ]
     },
     "execution_count": 20,
     "metadata": {},
     "output_type": "execute_result"
    }
   ],
   "source": [
    "startups[startups.index.isin([49, 48])]"
   ]
  },
  {
   "cell_type": "code",
   "execution_count": 21,
   "id": "d1e497c6",
   "metadata": {},
   "outputs": [],
   "source": [
    "startups1 = startups.copy()"
   ]
  },
  {
   "cell_type": "code",
   "execution_count": 22,
   "id": "e87ef957",
   "metadata": {},
   "outputs": [
    {
     "data": {
      "text/html": [
       "<div>\n",
       "<style scoped>\n",
       "    .dataframe tbody tr th:only-of-type {\n",
       "        vertical-align: middle;\n",
       "    }\n",
       "\n",
       "    .dataframe tbody tr th {\n",
       "        vertical-align: top;\n",
       "    }\n",
       "\n",
       "    .dataframe thead th {\n",
       "        text-align: right;\n",
       "    }\n",
       "</style>\n",
       "<table border=\"1\" class=\"dataframe\">\n",
       "  <thead>\n",
       "    <tr style=\"text-align: right;\">\n",
       "      <th></th>\n",
       "      <th>RD_Spend</th>\n",
       "      <th>Administration</th>\n",
       "      <th>Marketing_Spend</th>\n",
       "      <th>Profit</th>\n",
       "      <th>State_Florida</th>\n",
       "      <th>State_NewYork</th>\n",
       "    </tr>\n",
       "  </thead>\n",
       "  <tbody>\n",
       "    <tr>\n",
       "      <th>0</th>\n",
       "      <td>165349.20</td>\n",
       "      <td>136897.80</td>\n",
       "      <td>471784.10</td>\n",
       "      <td>192261.83</td>\n",
       "      <td>0</td>\n",
       "      <td>1</td>\n",
       "    </tr>\n",
       "    <tr>\n",
       "      <th>1</th>\n",
       "      <td>162597.70</td>\n",
       "      <td>151377.59</td>\n",
       "      <td>443898.53</td>\n",
       "      <td>191792.06</td>\n",
       "      <td>0</td>\n",
       "      <td>0</td>\n",
       "    </tr>\n",
       "    <tr>\n",
       "      <th>2</th>\n",
       "      <td>153441.51</td>\n",
       "      <td>101145.55</td>\n",
       "      <td>407934.54</td>\n",
       "      <td>191050.39</td>\n",
       "      <td>1</td>\n",
       "      <td>0</td>\n",
       "    </tr>\n",
       "    <tr>\n",
       "      <th>3</th>\n",
       "      <td>144372.41</td>\n",
       "      <td>118671.85</td>\n",
       "      <td>383199.62</td>\n",
       "      <td>182901.99</td>\n",
       "      <td>0</td>\n",
       "      <td>1</td>\n",
       "    </tr>\n",
       "    <tr>\n",
       "      <th>4</th>\n",
       "      <td>142107.34</td>\n",
       "      <td>91391.77</td>\n",
       "      <td>366168.42</td>\n",
       "      <td>166187.94</td>\n",
       "      <td>1</td>\n",
       "      <td>0</td>\n",
       "    </tr>\n",
       "  </tbody>\n",
       "</table>\n",
       "</div>"
      ],
      "text/plain": [
       "    RD_Spend  Administration  Marketing_Spend     Profit  State_Florida  \\\n",
       "0  165349.20       136897.80        471784.10  192261.83              0   \n",
       "1  162597.70       151377.59        443898.53  191792.06              0   \n",
       "2  153441.51       101145.55        407934.54  191050.39              1   \n",
       "3  144372.41       118671.85        383199.62  182901.99              0   \n",
       "4  142107.34        91391.77        366168.42  166187.94              1   \n",
       "\n",
       "   State_NewYork  \n",
       "0              1  \n",
       "1              0  \n",
       "2              0  \n",
       "3              1  \n",
       "4              0  "
      ]
     },
     "execution_count": 22,
     "metadata": {},
     "output_type": "execute_result"
    }
   ],
   "source": [
    "startups1 = startups1.drop(startups1.index[[48,49]],axis=0).reset_index()\n",
    "startups1 = startups1.drop(['index'],axis=1)\n",
    "startups1.head()"
   ]
  },
  {
   "cell_type": "code",
   "execution_count": 23,
   "id": "633bf13d",
   "metadata": {},
   "outputs": [
    {
     "data": {
      "text/html": [
       "<table class=\"simpletable\">\n",
       "<caption>OLS Regression Results</caption>\n",
       "<tr>\n",
       "  <th>Dep. Variable:</th>         <td>Profit</td>      <th>  R-squared:         </th> <td>   0.963</td>\n",
       "</tr>\n",
       "<tr>\n",
       "  <th>Model:</th>                   <td>OLS</td>       <th>  Adj. R-squared:    </th> <td>   0.958</td>\n",
       "</tr>\n",
       "<tr>\n",
       "  <th>Method:</th>             <td>Least Squares</td>  <th>  F-statistic:       </th> <td>   217.6</td>\n",
       "</tr>\n",
       "<tr>\n",
       "  <th>Date:</th>             <td>Sun, 17 Sep 2023</td> <th>  Prob (F-statistic):</th> <td>7.02e-29</td>\n",
       "</tr>\n",
       "<tr>\n",
       "  <th>Time:</th>                 <td>21:31:51</td>     <th>  Log-Likelihood:    </th> <td> -493.23</td>\n",
       "</tr>\n",
       "<tr>\n",
       "  <th>No. Observations:</th>      <td>    48</td>      <th>  AIC:               </th> <td>   998.5</td>\n",
       "</tr>\n",
       "<tr>\n",
       "  <th>Df Residuals:</th>          <td>    42</td>      <th>  BIC:               </th> <td>   1010.</td>\n",
       "</tr>\n",
       "<tr>\n",
       "  <th>Df Model:</th>              <td>     5</td>      <th>                     </th>     <td> </td>   \n",
       "</tr>\n",
       "<tr>\n",
       "  <th>Covariance Type:</th>      <td>nonrobust</td>    <th>                     </th>     <td> </td>   \n",
       "</tr>\n",
       "</table>\n",
       "<table class=\"simpletable\">\n",
       "<tr>\n",
       "         <td></td>            <th>coef</th>     <th>std err</th>      <th>t</th>      <th>P>|t|</th>  <th>[0.025</th>    <th>0.975]</th>  \n",
       "</tr>\n",
       "<tr>\n",
       "  <th>Intercept</th>       <td> 5.939e+04</td> <td> 6093.634</td> <td>    9.746</td> <td> 0.000</td> <td> 4.71e+04</td> <td> 7.17e+04</td>\n",
       "</tr>\n",
       "<tr>\n",
       "  <th>RD_Spend</th>        <td>    0.7888</td> <td>    0.037</td> <td>   21.160</td> <td> 0.000</td> <td>    0.714</td> <td>    0.864</td>\n",
       "</tr>\n",
       "<tr>\n",
       "  <th>Administration</th>  <td>   -0.0621</td> <td>    0.045</td> <td>   -1.381</td> <td> 0.174</td> <td>   -0.153</td> <td>    0.029</td>\n",
       "</tr>\n",
       "<tr>\n",
       "  <th>Marketing_Spend</th> <td>    0.0179</td> <td>    0.014</td> <td>    1.275</td> <td> 0.209</td> <td>   -0.010</td> <td>    0.046</td>\n",
       "</tr>\n",
       "<tr>\n",
       "  <th>State_Florida</th>   <td>-1150.1897</td> <td> 2712.520</td> <td>   -0.424</td> <td> 0.674</td> <td>-6624.276</td> <td> 4323.896</td>\n",
       "</tr>\n",
       "<tr>\n",
       "  <th>State_NewYork</th>   <td> -665.7875</td> <td> 2678.779</td> <td>   -0.249</td> <td> 0.805</td> <td>-6071.783</td> <td> 4740.208</td>\n",
       "</tr>\n",
       "</table>\n",
       "<table class=\"simpletable\">\n",
       "<tr>\n",
       "  <th>Omnibus:</th>       <td> 0.267</td> <th>  Durbin-Watson:     </th> <td>   1.835</td>\n",
       "</tr>\n",
       "<tr>\n",
       "  <th>Prob(Omnibus):</th> <td> 0.875</td> <th>  Jarque-Bera (JB):  </th> <td>   0.453</td>\n",
       "</tr>\n",
       "<tr>\n",
       "  <th>Skew:</th>          <td> 0.108</td> <th>  Prob(JB):          </th> <td>   0.797</td>\n",
       "</tr>\n",
       "<tr>\n",
       "  <th>Kurtosis:</th>      <td> 2.576</td> <th>  Cond. No.          </th> <td>1.60e+06</td>\n",
       "</tr>\n",
       "</table><br/><br/>Notes:<br/>[1] Standard Errors assume that the covariance matrix of the errors is correctly specified.<br/>[2] The condition number is large, 1.6e+06. This might indicate that there are<br/>strong multicollinearity or other numerical problems."
      ],
      "text/plain": [
       "<class 'statsmodels.iolib.summary.Summary'>\n",
       "\"\"\"\n",
       "                            OLS Regression Results                            \n",
       "==============================================================================\n",
       "Dep. Variable:                 Profit   R-squared:                       0.963\n",
       "Model:                            OLS   Adj. R-squared:                  0.958\n",
       "Method:                 Least Squares   F-statistic:                     217.6\n",
       "Date:                Sun, 17 Sep 2023   Prob (F-statistic):           7.02e-29\n",
       "Time:                        21:31:51   Log-Likelihood:                -493.23\n",
       "No. Observations:                  48   AIC:                             998.5\n",
       "Df Residuals:                      42   BIC:                             1010.\n",
       "Df Model:                           5                                         \n",
       "Covariance Type:            nonrobust                                         \n",
       "===================================================================================\n",
       "                      coef    std err          t      P>|t|      [0.025      0.975]\n",
       "-----------------------------------------------------------------------------------\n",
       "Intercept        5.939e+04   6093.634      9.746      0.000    4.71e+04    7.17e+04\n",
       "RD_Spend            0.7888      0.037     21.160      0.000       0.714       0.864\n",
       "Administration     -0.0621      0.045     -1.381      0.174      -0.153       0.029\n",
       "Marketing_Spend     0.0179      0.014      1.275      0.209      -0.010       0.046\n",
       "State_Florida   -1150.1897   2712.520     -0.424      0.674   -6624.276    4323.896\n",
       "State_NewYork    -665.7875   2678.779     -0.249      0.805   -6071.783    4740.208\n",
       "==============================================================================\n",
       "Omnibus:                        0.267   Durbin-Watson:                   1.835\n",
       "Prob(Omnibus):                  0.875   Jarque-Bera (JB):                0.453\n",
       "Skew:                           0.108   Prob(JB):                        0.797\n",
       "Kurtosis:                       2.576   Cond. No.                     1.60e+06\n",
       "==============================================================================\n",
       "\n",
       "Notes:\n",
       "[1] Standard Errors assume that the covariance matrix of the errors is correctly specified.\n",
       "[2] The condition number is large, 1.6e+06. This might indicate that there are\n",
       "strong multicollinearity or other numerical problems.\n",
       "\"\"\""
      ]
     },
     "execution_count": 23,
     "metadata": {},
     "output_type": "execute_result"
    }
   ],
   "source": [
    "formula = 'Profit~RD_Spend+Administration+Marketing_Spend+State_Florida+State_NewYork'\n",
    "finalMLR = smf.ols(formula,data=startups1).fit()\n",
    "finalMLR.summary()"
   ]
  },
  {
   "cell_type": "code",
   "execution_count": 24,
   "id": "44b8535c",
   "metadata": {},
   "outputs": [],
   "source": [
    "ybar = finalMLR.predict(startups1)"
   ]
  },
  {
   "cell_type": "code",
   "execution_count": 25,
   "id": "af60f5e0",
   "metadata": {},
   "outputs": [],
   "source": [
    "predictions = pd.concat([startups1['Profit'],ybar],axis=1)"
   ]
  },
  {
   "cell_type": "code",
   "execution_count": 26,
   "id": "64519e1b",
   "metadata": {},
   "outputs": [
    {
     "data": {
      "text/html": [
       "<div>\n",
       "<style scoped>\n",
       "    .dataframe tbody tr th:only-of-type {\n",
       "        vertical-align: middle;\n",
       "    }\n",
       "\n",
       "    .dataframe tbody tr th {\n",
       "        vertical-align: top;\n",
       "    }\n",
       "\n",
       "    .dataframe thead th {\n",
       "        text-align: right;\n",
       "    }\n",
       "</style>\n",
       "<table border=\"1\" class=\"dataframe\">\n",
       "  <thead>\n",
       "    <tr style=\"text-align: right;\">\n",
       "      <th></th>\n",
       "      <th>Profit</th>\n",
       "      <th>0</th>\n",
       "    </tr>\n",
       "  </thead>\n",
       "  <tbody>\n",
       "    <tr>\n",
       "      <th>0</th>\n",
       "      <td>192261.83</td>\n",
       "      <td>189087.074698</td>\n",
       "    </tr>\n",
       "    <tr>\n",
       "      <th>1</th>\n",
       "      <td>191792.06</td>\n",
       "      <td>186183.370112</td>\n",
       "    </tr>\n",
       "    <tr>\n",
       "      <th>2</th>\n",
       "      <td>191050.39</td>\n",
       "      <td>180288.581216</td>\n",
       "    </tr>\n",
       "    <tr>\n",
       "      <th>3</th>\n",
       "      <td>182901.99</td>\n",
       "      <td>172087.545966</td>\n",
       "    </tr>\n",
       "    <tr>\n",
       "      <th>4</th>\n",
       "      <td>166187.94</td>\n",
       "      <td>171206.768166</td>\n",
       "    </tr>\n",
       "  </tbody>\n",
       "</table>\n",
       "</div>"
      ],
      "text/plain": [
       "      Profit              0\n",
       "0  192261.83  189087.074698\n",
       "1  191792.06  186183.370112\n",
       "2  191050.39  180288.581216\n",
       "3  182901.99  172087.545966\n",
       "4  166187.94  171206.768166"
      ]
     },
     "execution_count": 26,
     "metadata": {},
     "output_type": "execute_result"
    }
   ],
   "source": [
    "predictions.head()"
   ]
  },
  {
   "cell_type": "code",
   "execution_count": 27,
   "id": "cb8a5da2",
   "metadata": {},
   "outputs": [
    {
     "name": "stderr",
     "output_type": "stream",
     "text": [
      "C:\\Users\\sailo\\AppData\\Local\\Temp\\ipykernel_20444\\3668945480.py:1: FutureWarning: The frame.append method is deprecated and will be removed from pandas in a future version. Use pandas.concat instead.\n",
      "  RSquared_table = RSquared_table.append({'Model_Name': 'Model2', 'AdjRSquared': finalMLR.rsquared_adj}, ignore_index=True)\n"
     ]
    }
   ],
   "source": [
    "RSquared_table = RSquared_table.append({'Model_Name': 'Model2', 'AdjRSquared': finalMLR.rsquared_adj}, ignore_index=True)"
   ]
  },
  {
   "cell_type": "code",
   "execution_count": 28,
   "id": "f3763f5b",
   "metadata": {},
   "outputs": [
    {
     "data": {
      "text/html": [
       "<div>\n",
       "<style scoped>\n",
       "    .dataframe tbody tr th:only-of-type {\n",
       "        vertical-align: middle;\n",
       "    }\n",
       "\n",
       "    .dataframe tbody tr th {\n",
       "        vertical-align: top;\n",
       "    }\n",
       "\n",
       "    .dataframe thead th {\n",
       "        text-align: right;\n",
       "    }\n",
       "</style>\n",
       "<table border=\"1\" class=\"dataframe\">\n",
       "  <thead>\n",
       "    <tr style=\"text-align: right;\">\n",
       "      <th></th>\n",
       "      <th>Model_Name</th>\n",
       "      <th>AdjRSquared</th>\n",
       "    </tr>\n",
       "  </thead>\n",
       "  <tbody>\n",
       "    <tr>\n",
       "      <th>0</th>\n",
       "      <td>Model1</td>\n",
       "      <td>0.945156</td>\n",
       "    </tr>\n",
       "    <tr>\n",
       "      <th>1</th>\n",
       "      <td>Model2</td>\n",
       "      <td>0.958413</td>\n",
       "    </tr>\n",
       "  </tbody>\n",
       "</table>\n",
       "</div>"
      ],
      "text/plain": [
       "  Model_Name AdjRSquared\n",
       "0     Model1    0.945156\n",
       "1     Model2    0.958413"
      ]
     },
     "execution_count": 28,
     "metadata": {},
     "output_type": "execute_result"
    }
   ],
   "source": [
    "RSquared_table"
   ]
  },
  {
   "cell_type": "markdown",
   "id": "61e85516",
   "metadata": {},
   "source": [
    "### Problem Statement 2"
   ]
  },
  {
   "cell_type": "markdown",
   "id": "a65ebef8",
   "metadata": {},
   "source": [
    "ToyotaCorolla.csv has other characters that don't support utf-8 hence used the below encoding "
   ]
  },
  {
   "cell_type": "code",
   "execution_count": 29,
   "id": "ffa3e7f7",
   "metadata": {},
   "outputs": [],
   "source": [
    "corolla = pd.read_csv('ToyotaCorolla.csv', encoding='ISO-8859-1')"
   ]
  },
  {
   "cell_type": "code",
   "execution_count": 30,
   "id": "2bb11000",
   "metadata": {},
   "outputs": [
    {
     "data": {
      "text/plain": [
       "Index(['Id', 'Model', 'Price', 'Age_08_04', 'Mfg_Month', 'Mfg_Year', 'KM',\n",
       "       'Fuel_Type', 'HP', 'Met_Color', 'Color', 'Automatic', 'cc', 'Doors',\n",
       "       'Cylinders', 'Gears', 'Quarterly_Tax', 'Weight', 'Mfr_Guarantee',\n",
       "       'BOVAG_Guarantee', 'Guarantee_Period', 'ABS', 'Airbag_1', 'Airbag_2',\n",
       "       'Airco', 'Automatic_airco', 'Boardcomputer', 'CD_Player',\n",
       "       'Central_Lock', 'Powered_Windows', 'Power_Steering', 'Radio',\n",
       "       'Mistlamps', 'Sport_Model', 'Backseat_Divider', 'Metallic_Rim',\n",
       "       'Radio_cassette', 'Tow_Bar'],\n",
       "      dtype='object')"
      ]
     },
     "execution_count": 30,
     "metadata": {},
     "output_type": "execute_result"
    }
   ],
   "source": [
    "corolla.columns"
   ]
  },
  {
   "cell_type": "code",
   "execution_count": 31,
   "id": "7220802e",
   "metadata": {},
   "outputs": [
    {
     "data": {
      "text/plain": [
       "(1436, 38)"
      ]
     },
     "execution_count": 31,
     "metadata": {},
     "output_type": "execute_result"
    }
   ],
   "source": [
    "corolla.shape"
   ]
  },
  {
   "cell_type": "markdown",
   "id": "7e330573",
   "metadata": {},
   "source": [
    "Taking only necessary columns for the problem"
   ]
  },
  {
   "cell_type": "code",
   "execution_count": 32,
   "id": "620d4ad0",
   "metadata": {},
   "outputs": [],
   "source": [
    "corolla = corolla[['Age_08_04','KM','HP','cc','Doors','Gears','Quarterly_Tax','Weight','Price']]"
   ]
  },
  {
   "cell_type": "code",
   "execution_count": 33,
   "id": "df1e4b45",
   "metadata": {},
   "outputs": [
    {
     "data": {
      "text/html": [
       "<div>\n",
       "<style scoped>\n",
       "    .dataframe tbody tr th:only-of-type {\n",
       "        vertical-align: middle;\n",
       "    }\n",
       "\n",
       "    .dataframe tbody tr th {\n",
       "        vertical-align: top;\n",
       "    }\n",
       "\n",
       "    .dataframe thead th {\n",
       "        text-align: right;\n",
       "    }\n",
       "</style>\n",
       "<table border=\"1\" class=\"dataframe\">\n",
       "  <thead>\n",
       "    <tr style=\"text-align: right;\">\n",
       "      <th></th>\n",
       "      <th>Age_08_04</th>\n",
       "      <th>KM</th>\n",
       "      <th>HP</th>\n",
       "      <th>cc</th>\n",
       "      <th>Doors</th>\n",
       "      <th>Gears</th>\n",
       "      <th>Quarterly_Tax</th>\n",
       "      <th>Weight</th>\n",
       "      <th>Price</th>\n",
       "    </tr>\n",
       "  </thead>\n",
       "  <tbody>\n",
       "    <tr>\n",
       "      <th>0</th>\n",
       "      <td>23</td>\n",
       "      <td>46986</td>\n",
       "      <td>90</td>\n",
       "      <td>2000</td>\n",
       "      <td>3</td>\n",
       "      <td>5</td>\n",
       "      <td>210</td>\n",
       "      <td>1165</td>\n",
       "      <td>13500</td>\n",
       "    </tr>\n",
       "    <tr>\n",
       "      <th>1</th>\n",
       "      <td>23</td>\n",
       "      <td>72937</td>\n",
       "      <td>90</td>\n",
       "      <td>2000</td>\n",
       "      <td>3</td>\n",
       "      <td>5</td>\n",
       "      <td>210</td>\n",
       "      <td>1165</td>\n",
       "      <td>13750</td>\n",
       "    </tr>\n",
       "    <tr>\n",
       "      <th>2</th>\n",
       "      <td>24</td>\n",
       "      <td>41711</td>\n",
       "      <td>90</td>\n",
       "      <td>2000</td>\n",
       "      <td>3</td>\n",
       "      <td>5</td>\n",
       "      <td>210</td>\n",
       "      <td>1165</td>\n",
       "      <td>13950</td>\n",
       "    </tr>\n",
       "    <tr>\n",
       "      <th>3</th>\n",
       "      <td>26</td>\n",
       "      <td>48000</td>\n",
       "      <td>90</td>\n",
       "      <td>2000</td>\n",
       "      <td>3</td>\n",
       "      <td>5</td>\n",
       "      <td>210</td>\n",
       "      <td>1165</td>\n",
       "      <td>14950</td>\n",
       "    </tr>\n",
       "    <tr>\n",
       "      <th>4</th>\n",
       "      <td>30</td>\n",
       "      <td>38500</td>\n",
       "      <td>90</td>\n",
       "      <td>2000</td>\n",
       "      <td>3</td>\n",
       "      <td>5</td>\n",
       "      <td>210</td>\n",
       "      <td>1170</td>\n",
       "      <td>13750</td>\n",
       "    </tr>\n",
       "  </tbody>\n",
       "</table>\n",
       "</div>"
      ],
      "text/plain": [
       "   Age_08_04     KM  HP    cc  Doors  Gears  Quarterly_Tax  Weight  Price\n",
       "0         23  46986  90  2000      3      5            210    1165  13500\n",
       "1         23  72937  90  2000      3      5            210    1165  13750\n",
       "2         24  41711  90  2000      3      5            210    1165  13950\n",
       "3         26  48000  90  2000      3      5            210    1165  14950\n",
       "4         30  38500  90  2000      3      5            210    1170  13750"
      ]
     },
     "execution_count": 33,
     "metadata": {},
     "output_type": "execute_result"
    }
   ],
   "source": [
    "corolla.head()"
   ]
  },
  {
   "cell_type": "code",
   "execution_count": 34,
   "id": "9563c848",
   "metadata": {},
   "outputs": [
    {
     "name": "stdout",
     "output_type": "stream",
     "text": [
      "<class 'pandas.core.frame.DataFrame'>\n",
      "RangeIndex: 1436 entries, 0 to 1435\n",
      "Data columns (total 9 columns):\n",
      " #   Column         Non-Null Count  Dtype\n",
      "---  ------         --------------  -----\n",
      " 0   Age_08_04      1436 non-null   int64\n",
      " 1   KM             1436 non-null   int64\n",
      " 2   HP             1436 non-null   int64\n",
      " 3   cc             1436 non-null   int64\n",
      " 4   Doors          1436 non-null   int64\n",
      " 5   Gears          1436 non-null   int64\n",
      " 6   Quarterly_Tax  1436 non-null   int64\n",
      " 7   Weight         1436 non-null   int64\n",
      " 8   Price          1436 non-null   int64\n",
      "dtypes: int64(9)\n",
      "memory usage: 101.1 KB\n"
     ]
    }
   ],
   "source": [
    "corolla.info()"
   ]
  },
  {
   "cell_type": "code",
   "execution_count": 35,
   "id": "d7f4f454",
   "metadata": {},
   "outputs": [
    {
     "data": {
      "text/plain": [
       "5    1390\n",
       "6      43\n",
       "3       2\n",
       "4       1\n",
       "Name: Gears, dtype: int64"
      ]
     },
     "execution_count": 35,
     "metadata": {},
     "output_type": "execute_result"
    }
   ],
   "source": [
    "corolla['Gears'].value_counts()"
   ]
  },
  {
   "cell_type": "code",
   "execution_count": 36,
   "id": "9c0afa80",
   "metadata": {},
   "outputs": [
    {
     "data": {
      "text/plain": [
       "5    674\n",
       "3    622\n",
       "4    138\n",
       "2      2\n",
       "Name: Doors, dtype: int64"
      ]
     },
     "execution_count": 36,
     "metadata": {},
     "output_type": "execute_result"
    }
   ],
   "source": [
    "corolla['Doors'].value_counts()"
   ]
  },
  {
   "cell_type": "code",
   "execution_count": 37,
   "id": "ea19d769",
   "metadata": {},
   "outputs": [
    {
     "data": {
      "text/plain": [
       "85     613\n",
       "69     559\n",
       "185     96\n",
       "19      72\n",
       "100     19\n",
       "234     19\n",
       "210     18\n",
       "64      18\n",
       "197     14\n",
       "283      3\n",
       "72       3\n",
       "163      1\n",
       "40       1\n",
       "Name: Quarterly_Tax, dtype: int64"
      ]
     },
     "execution_count": 37,
     "metadata": {},
     "output_type": "execute_result"
    }
   ],
   "source": [
    "corolla['Quarterly_Tax'].value_counts()"
   ]
  },
  {
   "cell_type": "markdown",
   "id": "bbcefe70",
   "metadata": {},
   "source": [
    "Converting necessary colmuns into categorical "
   ]
  },
  {
   "cell_type": "code",
   "execution_count": 38,
   "id": "de215401",
   "metadata": {},
   "outputs": [],
   "source": [
    "corolla['Gears'] = corolla['Gears'].astype('category')\n",
    "corolla['Doors'] = corolla['Doors'].astype('category')"
   ]
  },
  {
   "cell_type": "code",
   "execution_count": 39,
   "id": "35b33c76",
   "metadata": {},
   "outputs": [
    {
     "data": {
      "text/html": [
       "<div>\n",
       "<style scoped>\n",
       "    .dataframe tbody tr th:only-of-type {\n",
       "        vertical-align: middle;\n",
       "    }\n",
       "\n",
       "    .dataframe tbody tr th {\n",
       "        vertical-align: top;\n",
       "    }\n",
       "\n",
       "    .dataframe thead th {\n",
       "        text-align: right;\n",
       "    }\n",
       "</style>\n",
       "<table border=\"1\" class=\"dataframe\">\n",
       "  <thead>\n",
       "    <tr style=\"text-align: right;\">\n",
       "      <th></th>\n",
       "      <th>Age_08_04</th>\n",
       "      <th>KM</th>\n",
       "      <th>HP</th>\n",
       "      <th>cc</th>\n",
       "      <th>Quarterly_Tax</th>\n",
       "      <th>Weight</th>\n",
       "      <th>Price</th>\n",
       "      <th>Doors_3</th>\n",
       "      <th>Doors_4</th>\n",
       "      <th>Doors_5</th>\n",
       "      <th>Gears_4</th>\n",
       "      <th>Gears_5</th>\n",
       "      <th>Gears_6</th>\n",
       "    </tr>\n",
       "  </thead>\n",
       "  <tbody>\n",
       "    <tr>\n",
       "      <th>0</th>\n",
       "      <td>23</td>\n",
       "      <td>46986</td>\n",
       "      <td>90</td>\n",
       "      <td>2000</td>\n",
       "      <td>210</td>\n",
       "      <td>1165</td>\n",
       "      <td>13500</td>\n",
       "      <td>1</td>\n",
       "      <td>0</td>\n",
       "      <td>0</td>\n",
       "      <td>0</td>\n",
       "      <td>1</td>\n",
       "      <td>0</td>\n",
       "    </tr>\n",
       "    <tr>\n",
       "      <th>1</th>\n",
       "      <td>23</td>\n",
       "      <td>72937</td>\n",
       "      <td>90</td>\n",
       "      <td>2000</td>\n",
       "      <td>210</td>\n",
       "      <td>1165</td>\n",
       "      <td>13750</td>\n",
       "      <td>1</td>\n",
       "      <td>0</td>\n",
       "      <td>0</td>\n",
       "      <td>0</td>\n",
       "      <td>1</td>\n",
       "      <td>0</td>\n",
       "    </tr>\n",
       "    <tr>\n",
       "      <th>2</th>\n",
       "      <td>24</td>\n",
       "      <td>41711</td>\n",
       "      <td>90</td>\n",
       "      <td>2000</td>\n",
       "      <td>210</td>\n",
       "      <td>1165</td>\n",
       "      <td>13950</td>\n",
       "      <td>1</td>\n",
       "      <td>0</td>\n",
       "      <td>0</td>\n",
       "      <td>0</td>\n",
       "      <td>1</td>\n",
       "      <td>0</td>\n",
       "    </tr>\n",
       "    <tr>\n",
       "      <th>3</th>\n",
       "      <td>26</td>\n",
       "      <td>48000</td>\n",
       "      <td>90</td>\n",
       "      <td>2000</td>\n",
       "      <td>210</td>\n",
       "      <td>1165</td>\n",
       "      <td>14950</td>\n",
       "      <td>1</td>\n",
       "      <td>0</td>\n",
       "      <td>0</td>\n",
       "      <td>0</td>\n",
       "      <td>1</td>\n",
       "      <td>0</td>\n",
       "    </tr>\n",
       "    <tr>\n",
       "      <th>4</th>\n",
       "      <td>30</td>\n",
       "      <td>38500</td>\n",
       "      <td>90</td>\n",
       "      <td>2000</td>\n",
       "      <td>210</td>\n",
       "      <td>1170</td>\n",
       "      <td>13750</td>\n",
       "      <td>1</td>\n",
       "      <td>0</td>\n",
       "      <td>0</td>\n",
       "      <td>0</td>\n",
       "      <td>1</td>\n",
       "      <td>0</td>\n",
       "    </tr>\n",
       "  </tbody>\n",
       "</table>\n",
       "</div>"
      ],
      "text/plain": [
       "   Age_08_04     KM  HP    cc  Quarterly_Tax  Weight  Price  Doors_3  Doors_4  \\\n",
       "0         23  46986  90  2000            210    1165  13500        1        0   \n",
       "1         23  72937  90  2000            210    1165  13750        1        0   \n",
       "2         24  41711  90  2000            210    1165  13950        1        0   \n",
       "3         26  48000  90  2000            210    1165  14950        1        0   \n",
       "4         30  38500  90  2000            210    1170  13750        1        0   \n",
       "\n",
       "   Doors_5  Gears_4  Gears_5  Gears_6  \n",
       "0        0        0        1        0  \n",
       "1        0        0        1        0  \n",
       "2        0        0        1        0  \n",
       "3        0        0        1        0  \n",
       "4        0        0        1        0  "
      ]
     },
     "execution_count": 39,
     "metadata": {},
     "output_type": "execute_result"
    }
   ],
   "source": [
    "corolla = pd.get_dummies(corolla,columns=['Doors','Gears'],drop_first=True)\n",
    "corolla.head()"
   ]
  },
  {
   "cell_type": "code",
   "execution_count": 40,
   "id": "8d18b1d2",
   "metadata": {},
   "outputs": [
    {
     "name": "stdout",
     "output_type": "stream",
     "text": [
      "<class 'pandas.core.frame.DataFrame'>\n",
      "RangeIndex: 1436 entries, 0 to 1435\n",
      "Data columns (total 13 columns):\n",
      " #   Column         Non-Null Count  Dtype\n",
      "---  ------         --------------  -----\n",
      " 0   Age_08_04      1436 non-null   int64\n",
      " 1   KM             1436 non-null   int64\n",
      " 2   HP             1436 non-null   int64\n",
      " 3   cc             1436 non-null   int64\n",
      " 4   Quarterly_Tax  1436 non-null   int64\n",
      " 5   Weight         1436 non-null   int64\n",
      " 6   Price          1436 non-null   int64\n",
      " 7   Doors_3        1436 non-null   uint8\n",
      " 8   Doors_4        1436 non-null   uint8\n",
      " 9   Doors_5        1436 non-null   uint8\n",
      " 10  Gears_4        1436 non-null   uint8\n",
      " 11  Gears_5        1436 non-null   uint8\n",
      " 12  Gears_6        1436 non-null   uint8\n",
      "dtypes: int64(7), uint8(6)\n",
      "memory usage: 87.1 KB\n"
     ]
    }
   ],
   "source": [
    "corolla.info()"
   ]
  },
  {
   "cell_type": "code",
   "execution_count": 41,
   "id": "407a168a",
   "metadata": {},
   "outputs": [
    {
     "data": {
      "text/html": [
       "<div>\n",
       "<style scoped>\n",
       "    .dataframe tbody tr th:only-of-type {\n",
       "        vertical-align: middle;\n",
       "    }\n",
       "\n",
       "    .dataframe tbody tr th {\n",
       "        vertical-align: top;\n",
       "    }\n",
       "\n",
       "    .dataframe thead th {\n",
       "        text-align: right;\n",
       "    }\n",
       "</style>\n",
       "<table border=\"1\" class=\"dataframe\">\n",
       "  <thead>\n",
       "    <tr style=\"text-align: right;\">\n",
       "      <th></th>\n",
       "      <th>count</th>\n",
       "      <th>mean</th>\n",
       "      <th>std</th>\n",
       "      <th>min</th>\n",
       "      <th>25%</th>\n",
       "      <th>50%</th>\n",
       "      <th>75%</th>\n",
       "      <th>max</th>\n",
       "    </tr>\n",
       "  </thead>\n",
       "  <tbody>\n",
       "    <tr>\n",
       "      <th>Age_08_04</th>\n",
       "      <td>1436.0</td>\n",
       "      <td>55.947075</td>\n",
       "      <td>18.599988</td>\n",
       "      <td>1.0</td>\n",
       "      <td>44.0</td>\n",
       "      <td>61.0</td>\n",
       "      <td>70.00</td>\n",
       "      <td>80.0</td>\n",
       "    </tr>\n",
       "    <tr>\n",
       "      <th>KM</th>\n",
       "      <td>1436.0</td>\n",
       "      <td>68533.259749</td>\n",
       "      <td>37506.448872</td>\n",
       "      <td>1.0</td>\n",
       "      <td>43000.0</td>\n",
       "      <td>63389.5</td>\n",
       "      <td>87020.75</td>\n",
       "      <td>243000.0</td>\n",
       "    </tr>\n",
       "    <tr>\n",
       "      <th>HP</th>\n",
       "      <td>1436.0</td>\n",
       "      <td>101.502089</td>\n",
       "      <td>14.981080</td>\n",
       "      <td>69.0</td>\n",
       "      <td>90.0</td>\n",
       "      <td>110.0</td>\n",
       "      <td>110.00</td>\n",
       "      <td>192.0</td>\n",
       "    </tr>\n",
       "    <tr>\n",
       "      <th>cc</th>\n",
       "      <td>1436.0</td>\n",
       "      <td>1576.855850</td>\n",
       "      <td>424.386770</td>\n",
       "      <td>1300.0</td>\n",
       "      <td>1400.0</td>\n",
       "      <td>1600.0</td>\n",
       "      <td>1600.00</td>\n",
       "      <td>16000.0</td>\n",
       "    </tr>\n",
       "    <tr>\n",
       "      <th>Quarterly_Tax</th>\n",
       "      <td>1436.0</td>\n",
       "      <td>87.122563</td>\n",
       "      <td>41.128611</td>\n",
       "      <td>19.0</td>\n",
       "      <td>69.0</td>\n",
       "      <td>85.0</td>\n",
       "      <td>85.00</td>\n",
       "      <td>283.0</td>\n",
       "    </tr>\n",
       "    <tr>\n",
       "      <th>Weight</th>\n",
       "      <td>1436.0</td>\n",
       "      <td>1072.459610</td>\n",
       "      <td>52.641120</td>\n",
       "      <td>1000.0</td>\n",
       "      <td>1040.0</td>\n",
       "      <td>1070.0</td>\n",
       "      <td>1085.00</td>\n",
       "      <td>1615.0</td>\n",
       "    </tr>\n",
       "    <tr>\n",
       "      <th>Price</th>\n",
       "      <td>1436.0</td>\n",
       "      <td>10730.824513</td>\n",
       "      <td>3626.964585</td>\n",
       "      <td>4350.0</td>\n",
       "      <td>8450.0</td>\n",
       "      <td>9900.0</td>\n",
       "      <td>11950.00</td>\n",
       "      <td>32500.0</td>\n",
       "    </tr>\n",
       "    <tr>\n",
       "      <th>Doors_3</th>\n",
       "      <td>1436.0</td>\n",
       "      <td>0.433148</td>\n",
       "      <td>0.495683</td>\n",
       "      <td>0.0</td>\n",
       "      <td>0.0</td>\n",
       "      <td>0.0</td>\n",
       "      <td>1.00</td>\n",
       "      <td>1.0</td>\n",
       "    </tr>\n",
       "    <tr>\n",
       "      <th>Doors_4</th>\n",
       "      <td>1436.0</td>\n",
       "      <td>0.096100</td>\n",
       "      <td>0.294831</td>\n",
       "      <td>0.0</td>\n",
       "      <td>0.0</td>\n",
       "      <td>0.0</td>\n",
       "      <td>0.00</td>\n",
       "      <td>1.0</td>\n",
       "    </tr>\n",
       "    <tr>\n",
       "      <th>Doors_5</th>\n",
       "      <td>1436.0</td>\n",
       "      <td>0.469359</td>\n",
       "      <td>0.499234</td>\n",
       "      <td>0.0</td>\n",
       "      <td>0.0</td>\n",
       "      <td>0.0</td>\n",
       "      <td>1.00</td>\n",
       "      <td>1.0</td>\n",
       "    </tr>\n",
       "    <tr>\n",
       "      <th>Gears_4</th>\n",
       "      <td>1436.0</td>\n",
       "      <td>0.000696</td>\n",
       "      <td>0.026389</td>\n",
       "      <td>0.0</td>\n",
       "      <td>0.0</td>\n",
       "      <td>0.0</td>\n",
       "      <td>0.00</td>\n",
       "      <td>1.0</td>\n",
       "    </tr>\n",
       "    <tr>\n",
       "      <th>Gears_5</th>\n",
       "      <td>1436.0</td>\n",
       "      <td>0.967967</td>\n",
       "      <td>0.176150</td>\n",
       "      <td>0.0</td>\n",
       "      <td>1.0</td>\n",
       "      <td>1.0</td>\n",
       "      <td>1.00</td>\n",
       "      <td>1.0</td>\n",
       "    </tr>\n",
       "    <tr>\n",
       "      <th>Gears_6</th>\n",
       "      <td>1436.0</td>\n",
       "      <td>0.029944</td>\n",
       "      <td>0.170493</td>\n",
       "      <td>0.0</td>\n",
       "      <td>0.0</td>\n",
       "      <td>0.0</td>\n",
       "      <td>0.00</td>\n",
       "      <td>1.0</td>\n",
       "    </tr>\n",
       "  </tbody>\n",
       "</table>\n",
       "</div>"
      ],
      "text/plain": [
       "                count          mean           std     min      25%      50%  \\\n",
       "Age_08_04      1436.0     55.947075     18.599988     1.0     44.0     61.0   \n",
       "KM             1436.0  68533.259749  37506.448872     1.0  43000.0  63389.5   \n",
       "HP             1436.0    101.502089     14.981080    69.0     90.0    110.0   \n",
       "cc             1436.0   1576.855850    424.386770  1300.0   1400.0   1600.0   \n",
       "Quarterly_Tax  1436.0     87.122563     41.128611    19.0     69.0     85.0   \n",
       "Weight         1436.0   1072.459610     52.641120  1000.0   1040.0   1070.0   \n",
       "Price          1436.0  10730.824513   3626.964585  4350.0   8450.0   9900.0   \n",
       "Doors_3        1436.0      0.433148      0.495683     0.0      0.0      0.0   \n",
       "Doors_4        1436.0      0.096100      0.294831     0.0      0.0      0.0   \n",
       "Doors_5        1436.0      0.469359      0.499234     0.0      0.0      0.0   \n",
       "Gears_4        1436.0      0.000696      0.026389     0.0      0.0      0.0   \n",
       "Gears_5        1436.0      0.967967      0.176150     0.0      1.0      1.0   \n",
       "Gears_6        1436.0      0.029944      0.170493     0.0      0.0      0.0   \n",
       "\n",
       "                    75%       max  \n",
       "Age_08_04         70.00      80.0  \n",
       "KM             87020.75  243000.0  \n",
       "HP               110.00     192.0  \n",
       "cc              1600.00   16000.0  \n",
       "Quarterly_Tax     85.00     283.0  \n",
       "Weight          1085.00    1615.0  \n",
       "Price          11950.00   32500.0  \n",
       "Doors_3            1.00       1.0  \n",
       "Doors_4            0.00       1.0  \n",
       "Doors_5            1.00       1.0  \n",
       "Gears_4            0.00       1.0  \n",
       "Gears_5            1.00       1.0  \n",
       "Gears_6            0.00       1.0  "
      ]
     },
     "execution_count": 41,
     "metadata": {},
     "output_type": "execute_result"
    }
   ],
   "source": [
    "corolla.describe().T"
   ]
  },
  {
   "cell_type": "code",
   "execution_count": 42,
   "id": "de1b033c",
   "metadata": {},
   "outputs": [
    {
     "data": {
      "text/plain": [
       "(1, 13)"
      ]
     },
     "execution_count": 42,
     "metadata": {},
     "output_type": "execute_result"
    }
   ],
   "source": [
    "corolla[corolla.duplicated()].shape"
   ]
  },
  {
   "cell_type": "code",
   "execution_count": 43,
   "id": "8c19c424",
   "metadata": {},
   "outputs": [
    {
     "data": {
      "text/html": [
       "<div>\n",
       "<style scoped>\n",
       "    .dataframe tbody tr th:only-of-type {\n",
       "        vertical-align: middle;\n",
       "    }\n",
       "\n",
       "    .dataframe tbody tr th {\n",
       "        vertical-align: top;\n",
       "    }\n",
       "\n",
       "    .dataframe thead th {\n",
       "        text-align: right;\n",
       "    }\n",
       "</style>\n",
       "<table border=\"1\" class=\"dataframe\">\n",
       "  <thead>\n",
       "    <tr style=\"text-align: right;\">\n",
       "      <th></th>\n",
       "      <th>Age_08_04</th>\n",
       "      <th>KM</th>\n",
       "      <th>HP</th>\n",
       "      <th>cc</th>\n",
       "      <th>Quarterly_Tax</th>\n",
       "      <th>Weight</th>\n",
       "      <th>Price</th>\n",
       "      <th>Doors_3</th>\n",
       "      <th>Doors_4</th>\n",
       "      <th>Doors_5</th>\n",
       "      <th>Gears_4</th>\n",
       "      <th>Gears_5</th>\n",
       "      <th>Gears_6</th>\n",
       "    </tr>\n",
       "  </thead>\n",
       "  <tbody>\n",
       "    <tr>\n",
       "      <th>113</th>\n",
       "      <td>8</td>\n",
       "      <td>13253</td>\n",
       "      <td>116</td>\n",
       "      <td>2000</td>\n",
       "      <td>234</td>\n",
       "      <td>1320</td>\n",
       "      <td>24950</td>\n",
       "      <td>0</td>\n",
       "      <td>0</td>\n",
       "      <td>1</td>\n",
       "      <td>0</td>\n",
       "      <td>1</td>\n",
       "      <td>0</td>\n",
       "    </tr>\n",
       "  </tbody>\n",
       "</table>\n",
       "</div>"
      ],
      "text/plain": [
       "     Age_08_04     KM   HP    cc  Quarterly_Tax  Weight  Price  Doors_3  \\\n",
       "113          8  13253  116  2000            234    1320  24950        0   \n",
       "\n",
       "     Doors_4  Doors_5  Gears_4  Gears_5  Gears_6  \n",
       "113        0        1        0        1        0  "
      ]
     },
     "execution_count": 43,
     "metadata": {},
     "output_type": "execute_result"
    }
   ],
   "source": [
    "corolla[corolla.duplicated()]"
   ]
  },
  {
   "cell_type": "code",
   "execution_count": 44,
   "id": "ba351b23",
   "metadata": {},
   "outputs": [],
   "source": [
    "corolla = corolla.drop_duplicates()"
   ]
  },
  {
   "cell_type": "code",
   "execution_count": 45,
   "id": "2786e5b7",
   "metadata": {},
   "outputs": [
    {
     "name": "stdout",
     "output_type": "stream",
     "text": [
      "<class 'pandas.core.frame.DataFrame'>\n",
      "Int64Index: 1435 entries, 0 to 1435\n",
      "Data columns (total 13 columns):\n",
      " #   Column         Non-Null Count  Dtype\n",
      "---  ------         --------------  -----\n",
      " 0   Age_08_04      1435 non-null   int64\n",
      " 1   KM             1435 non-null   int64\n",
      " 2   HP             1435 non-null   int64\n",
      " 3   cc             1435 non-null   int64\n",
      " 4   Quarterly_Tax  1435 non-null   int64\n",
      " 5   Weight         1435 non-null   int64\n",
      " 6   Price          1435 non-null   int64\n",
      " 7   Doors_3        1435 non-null   uint8\n",
      " 8   Doors_4        1435 non-null   uint8\n",
      " 9   Doors_5        1435 non-null   uint8\n",
      " 10  Gears_4        1435 non-null   uint8\n",
      " 11  Gears_5        1435 non-null   uint8\n",
      " 12  Gears_6        1435 non-null   uint8\n",
      "dtypes: int64(7), uint8(6)\n",
      "memory usage: 98.1 KB\n"
     ]
    }
   ],
   "source": [
    "corolla.info()"
   ]
  },
  {
   "cell_type": "code",
   "execution_count": 46,
   "id": "f1cbd98c",
   "metadata": {},
   "outputs": [],
   "source": [
    "corollaForm = 'Price~Age_08_04+KM+HP+cc+Quarterly_Tax+Weight+Doors_3+Doors_4+Doors_5+Gears_4+Gears_5+Gears_6'\n",
    "corollaMLR1 = smf.ols(corollaForm,data=corolla).fit()"
   ]
  },
  {
   "cell_type": "code",
   "execution_count": 47,
   "id": "59ad7de4",
   "metadata": {},
   "outputs": [
    {
     "data": {
      "text/html": [
       "<table class=\"simpletable\">\n",
       "<caption>OLS Regression Results</caption>\n",
       "<tr>\n",
       "  <th>Dep. Variable:</th>          <td>Price</td>      <th>  R-squared:         </th> <td>   0.863</td> \n",
       "</tr>\n",
       "<tr>\n",
       "  <th>Model:</th>                   <td>OLS</td>       <th>  Adj. R-squared:    </th> <td>   0.862</td> \n",
       "</tr>\n",
       "<tr>\n",
       "  <th>Method:</th>             <td>Least Squares</td>  <th>  F-statistic:       </th> <td>   746.6</td> \n",
       "</tr>\n",
       "<tr>\n",
       "  <th>Date:</th>             <td>Sun, 17 Sep 2023</td> <th>  Prob (F-statistic):</th>  <td>  0.00</td>  \n",
       "</tr>\n",
       "<tr>\n",
       "  <th>Time:</th>                 <td>21:31:51</td>     <th>  Log-Likelihood:    </th> <td> -12364.</td> \n",
       "</tr>\n",
       "<tr>\n",
       "  <th>No. Observations:</th>      <td>  1435</td>      <th>  AIC:               </th> <td>2.475e+04</td>\n",
       "</tr>\n",
       "<tr>\n",
       "  <th>Df Residuals:</th>          <td>  1422</td>      <th>  BIC:               </th> <td>2.482e+04</td>\n",
       "</tr>\n",
       "<tr>\n",
       "  <th>Df Model:</th>              <td>    12</td>      <th>                     </th>     <td> </td>    \n",
       "</tr>\n",
       "<tr>\n",
       "  <th>Covariance Type:</th>      <td>nonrobust</td>    <th>                     </th>     <td> </td>    \n",
       "</tr>\n",
       "</table>\n",
       "<table class=\"simpletable\">\n",
       "<tr>\n",
       "        <td></td>           <th>coef</th>     <th>std err</th>      <th>t</th>      <th>P>|t|</th>  <th>[0.025</th>    <th>0.975]</th>  \n",
       "</tr>\n",
       "<tr>\n",
       "  <th>Intercept</th>     <td>-4707.2553</td> <td> 1770.582</td> <td>   -2.659</td> <td> 0.008</td> <td>-8180.489</td> <td>-1234.022</td>\n",
       "</tr>\n",
       "<tr>\n",
       "  <th>Age_08_04</th>     <td> -121.6668</td> <td>    2.621</td> <td>  -46.421</td> <td> 0.000</td> <td> -126.808</td> <td> -116.525</td>\n",
       "</tr>\n",
       "<tr>\n",
       "  <th>KM</th>            <td>   -0.0208</td> <td>    0.001</td> <td>  -16.556</td> <td> 0.000</td> <td>   -0.023</td> <td>   -0.018</td>\n",
       "</tr>\n",
       "<tr>\n",
       "  <th>HP</th>            <td>   31.5844</td> <td>    2.849</td> <td>   11.085</td> <td> 0.000</td> <td>   25.995</td> <td>   37.173</td>\n",
       "</tr>\n",
       "<tr>\n",
       "  <th>cc</th>            <td>   -0.1269</td> <td>    0.090</td> <td>   -1.408</td> <td> 0.159</td> <td>   -0.304</td> <td>    0.050</td>\n",
       "</tr>\n",
       "<tr>\n",
       "  <th>Quarterly_Tax</th> <td>    3.7223</td> <td>    1.313</td> <td>    2.835</td> <td> 0.005</td> <td>    1.147</td> <td>    6.298</td>\n",
       "</tr>\n",
       "<tr>\n",
       "  <th>Weight</th>        <td>   17.1573</td> <td>    1.086</td> <td>   15.793</td> <td> 0.000</td> <td>   15.026</td> <td>   19.288</td>\n",
       "</tr>\n",
       "<tr>\n",
       "  <th>Doors_3</th>       <td> -496.1711</td> <td>  951.614</td> <td>   -0.521</td> <td> 0.602</td> <td>-2362.890</td> <td> 1370.547</td>\n",
       "</tr>\n",
       "<tr>\n",
       "  <th>Doors_4</th>       <td> -307.6866</td> <td>  957.331</td> <td>   -0.321</td> <td> 0.748</td> <td>-2185.619</td> <td> 1570.246</td>\n",
       "</tr>\n",
       "<tr>\n",
       "  <th>Doors_5</th>       <td> -501.4454</td> <td>  951.988</td> <td>   -0.527</td> <td> 0.598</td> <td>-2368.897</td> <td> 1366.007</td>\n",
       "</tr>\n",
       "<tr>\n",
       "  <th>Gears_4</th>       <td> 3169.3236</td> <td> 1646.068</td> <td>    1.925</td> <td> 0.054</td> <td>  -59.659</td> <td> 6398.306</td>\n",
       "</tr>\n",
       "<tr>\n",
       "  <th>Gears_5</th>       <td> 2403.5303</td> <td>  952.146</td> <td>    2.524</td> <td> 0.012</td> <td>  535.768</td> <td> 4271.292</td>\n",
       "</tr>\n",
       "<tr>\n",
       "  <th>Gears_6</th>       <td> 2940.6325</td> <td>  976.345</td> <td>    3.012</td> <td> 0.003</td> <td> 1025.401</td> <td> 4855.864</td>\n",
       "</tr>\n",
       "</table>\n",
       "<table class=\"simpletable\">\n",
       "<tr>\n",
       "  <th>Omnibus:</th>       <td>156.661</td> <th>  Durbin-Watson:     </th> <td>   1.558</td> \n",
       "</tr>\n",
       "<tr>\n",
       "  <th>Prob(Omnibus):</th> <td> 0.000</td>  <th>  Jarque-Bera (JB):  </th> <td>1080.756</td> \n",
       "</tr>\n",
       "<tr>\n",
       "  <th>Skew:</th>          <td>-0.229</td>  <th>  Prob(JB):          </th> <td>2.07e-235</td>\n",
       "</tr>\n",
       "<tr>\n",
       "  <th>Kurtosis:</th>      <td> 7.227</td>  <th>  Cond. No.          </th> <td>5.14e+06</td> \n",
       "</tr>\n",
       "</table><br/><br/>Notes:<br/>[1] Standard Errors assume that the covariance matrix of the errors is correctly specified.<br/>[2] The condition number is large, 5.14e+06. This might indicate that there are<br/>strong multicollinearity or other numerical problems."
      ],
      "text/plain": [
       "<class 'statsmodels.iolib.summary.Summary'>\n",
       "\"\"\"\n",
       "                            OLS Regression Results                            \n",
       "==============================================================================\n",
       "Dep. Variable:                  Price   R-squared:                       0.863\n",
       "Model:                            OLS   Adj. R-squared:                  0.862\n",
       "Method:                 Least Squares   F-statistic:                     746.6\n",
       "Date:                Sun, 17 Sep 2023   Prob (F-statistic):               0.00\n",
       "Time:                        21:31:51   Log-Likelihood:                -12364.\n",
       "No. Observations:                1435   AIC:                         2.475e+04\n",
       "Df Residuals:                    1422   BIC:                         2.482e+04\n",
       "Df Model:                          12                                         \n",
       "Covariance Type:            nonrobust                                         \n",
       "=================================================================================\n",
       "                    coef    std err          t      P>|t|      [0.025      0.975]\n",
       "---------------------------------------------------------------------------------\n",
       "Intercept     -4707.2553   1770.582     -2.659      0.008   -8180.489   -1234.022\n",
       "Age_08_04      -121.6668      2.621    -46.421      0.000    -126.808    -116.525\n",
       "KM               -0.0208      0.001    -16.556      0.000      -0.023      -0.018\n",
       "HP               31.5844      2.849     11.085      0.000      25.995      37.173\n",
       "cc               -0.1269      0.090     -1.408      0.159      -0.304       0.050\n",
       "Quarterly_Tax     3.7223      1.313      2.835      0.005       1.147       6.298\n",
       "Weight           17.1573      1.086     15.793      0.000      15.026      19.288\n",
       "Doors_3        -496.1711    951.614     -0.521      0.602   -2362.890    1370.547\n",
       "Doors_4        -307.6866    957.331     -0.321      0.748   -2185.619    1570.246\n",
       "Doors_5        -501.4454    951.988     -0.527      0.598   -2368.897    1366.007\n",
       "Gears_4        3169.3236   1646.068      1.925      0.054     -59.659    6398.306\n",
       "Gears_5        2403.5303    952.146      2.524      0.012     535.768    4271.292\n",
       "Gears_6        2940.6325    976.345      3.012      0.003    1025.401    4855.864\n",
       "==============================================================================\n",
       "Omnibus:                      156.661   Durbin-Watson:                   1.558\n",
       "Prob(Omnibus):                  0.000   Jarque-Bera (JB):             1080.756\n",
       "Skew:                          -0.229   Prob(JB):                    2.07e-235\n",
       "Kurtosis:                       7.227   Cond. No.                     5.14e+06\n",
       "==============================================================================\n",
       "\n",
       "Notes:\n",
       "[1] Standard Errors assume that the covariance matrix of the errors is correctly specified.\n",
       "[2] The condition number is large, 5.14e+06. This might indicate that there are\n",
       "strong multicollinearity or other numerical problems.\n",
       "\"\"\""
      ]
     },
     "execution_count": 47,
     "metadata": {},
     "output_type": "execute_result"
    }
   ],
   "source": [
    "corollaMLR1.summary()"
   ]
  },
  {
   "cell_type": "code",
   "execution_count": 48,
   "id": "57d4333c",
   "metadata": {},
   "outputs": [],
   "source": [
    "vif = pd.DataFrame()\n",
    "variables = corolla[['Age_08_04', 'KM', 'HP', 'cc', 'Quarterly_Tax','Weight']]\n",
    "vif['VIF'] = [variance_inflation_factor(variables.values,i) for i in range(variables.shape[1])]\n",
    "vif['features'] = variables.columns"
   ]
  },
  {
   "cell_type": "code",
   "execution_count": 49,
   "id": "97d10e27",
   "metadata": {},
   "outputs": [
    {
     "data": {
      "text/html": [
       "<div>\n",
       "<style scoped>\n",
       "    .dataframe tbody tr th:only-of-type {\n",
       "        vertical-align: middle;\n",
       "    }\n",
       "\n",
       "    .dataframe tbody tr th {\n",
       "        vertical-align: top;\n",
       "    }\n",
       "\n",
       "    .dataframe thead th {\n",
       "        text-align: right;\n",
       "    }\n",
       "</style>\n",
       "<table border=\"1\" class=\"dataframe\">\n",
       "  <thead>\n",
       "    <tr style=\"text-align: right;\">\n",
       "      <th></th>\n",
       "      <th>VIF</th>\n",
       "      <th>features</th>\n",
       "    </tr>\n",
       "  </thead>\n",
       "  <tbody>\n",
       "    <tr>\n",
       "      <th>0</th>\n",
       "      <td>14.600478</td>\n",
       "      <td>Age_08_04</td>\n",
       "    </tr>\n",
       "    <tr>\n",
       "      <th>1</th>\n",
       "      <td>7.588089</td>\n",
       "      <td>KM</td>\n",
       "    </tr>\n",
       "    <tr>\n",
       "      <th>2</th>\n",
       "      <td>62.674213</td>\n",
       "      <td>HP</td>\n",
       "    </tr>\n",
       "    <tr>\n",
       "      <th>3</th>\n",
       "      <td>17.112461</td>\n",
       "      <td>cc</td>\n",
       "    </tr>\n",
       "    <tr>\n",
       "      <th>4</th>\n",
       "      <td>10.162655</td>\n",
       "      <td>Quarterly_Tax</td>\n",
       "    </tr>\n",
       "    <tr>\n",
       "      <th>5</th>\n",
       "      <td>112.102308</td>\n",
       "      <td>Weight</td>\n",
       "    </tr>\n",
       "  </tbody>\n",
       "</table>\n",
       "</div>"
      ],
      "text/plain": [
       "          VIF       features\n",
       "0   14.600478      Age_08_04\n",
       "1    7.588089             KM\n",
       "2   62.674213             HP\n",
       "3   17.112461             cc\n",
       "4   10.162655  Quarterly_Tax\n",
       "5  112.102308         Weight"
      ]
     },
     "execution_count": 49,
     "metadata": {},
     "output_type": "execute_result"
    }
   ],
   "source": [
    "vif"
   ]
  },
  {
   "cell_type": "markdown",
   "id": "c188bd61",
   "metadata": {},
   "source": [
    "#### As we can see that Weight is impacting more since it has very high VIF, hence we can try removing it"
   ]
  },
  {
   "cell_type": "code",
   "execution_count": 50,
   "id": "094778d9",
   "metadata": {},
   "outputs": [],
   "source": [
    "vif = pd.DataFrame()\n",
    "variables = corolla[['Age_08_04', 'KM', 'HP', 'cc', 'Quarterly_Tax']]\n",
    "vif['VIF'] = [variance_inflation_factor(variables.values,i) for i in range(variables.shape[1])]\n",
    "vif['features'] = variables.columns"
   ]
  },
  {
   "cell_type": "code",
   "execution_count": 51,
   "id": "43047c0c",
   "metadata": {},
   "outputs": [
    {
     "data": {
      "text/html": [
       "<div>\n",
       "<style scoped>\n",
       "    .dataframe tbody tr th:only-of-type {\n",
       "        vertical-align: middle;\n",
       "    }\n",
       "\n",
       "    .dataframe tbody tr th {\n",
       "        vertical-align: top;\n",
       "    }\n",
       "\n",
       "    .dataframe thead th {\n",
       "        text-align: right;\n",
       "    }\n",
       "</style>\n",
       "<table border=\"1\" class=\"dataframe\">\n",
       "  <thead>\n",
       "    <tr style=\"text-align: right;\">\n",
       "      <th></th>\n",
       "      <th>VIF</th>\n",
       "      <th>features</th>\n",
       "    </tr>\n",
       "  </thead>\n",
       "  <tbody>\n",
       "    <tr>\n",
       "      <th>0</th>\n",
       "      <td>13.433138</td>\n",
       "      <td>Age_08_04</td>\n",
       "    </tr>\n",
       "    <tr>\n",
       "      <th>1</th>\n",
       "      <td>7.569422</td>\n",
       "      <td>KM</td>\n",
       "    </tr>\n",
       "    <tr>\n",
       "      <th>2</th>\n",
       "      <td>17.383943</td>\n",
       "      <td>HP</td>\n",
       "    </tr>\n",
       "    <tr>\n",
       "      <th>3</th>\n",
       "      <td>15.996832</td>\n",
       "      <td>cc</td>\n",
       "    </tr>\n",
       "    <tr>\n",
       "      <th>4</th>\n",
       "      <td>6.804130</td>\n",
       "      <td>Quarterly_Tax</td>\n",
       "    </tr>\n",
       "  </tbody>\n",
       "</table>\n",
       "</div>"
      ],
      "text/plain": [
       "         VIF       features\n",
       "0  13.433138      Age_08_04\n",
       "1   7.569422             KM\n",
       "2  17.383943             HP\n",
       "3  15.996832             cc\n",
       "4   6.804130  Quarterly_Tax"
      ]
     },
     "execution_count": 51,
     "metadata": {},
     "output_type": "execute_result"
    }
   ],
   "source": [
    "vif"
   ]
  },
  {
   "cell_type": "code",
   "execution_count": 52,
   "id": "ebd504e6",
   "metadata": {},
   "outputs": [],
   "source": [
    "corollaForm = 'Price~Age_08_04+KM+HP+cc+Quarterly_Tax+Doors_3+Doors_4+Doors_5+Gears_4+Gears_5+Gears_6'\n",
    "corollaMLR2 = smf.ols(corollaForm,data=corolla).fit()"
   ]
  },
  {
   "cell_type": "code",
   "execution_count": 53,
   "id": "b47e5bf2",
   "metadata": {},
   "outputs": [
    {
     "data": {
      "text/html": [
       "<table class=\"simpletable\">\n",
       "<caption>OLS Regression Results</caption>\n",
       "<tr>\n",
       "  <th>Dep. Variable:</th>          <td>Price</td>      <th>  R-squared:         </th> <td>   0.839</td> \n",
       "</tr>\n",
       "<tr>\n",
       "  <th>Model:</th>                   <td>OLS</td>       <th>  Adj. R-squared:    </th> <td>   0.838</td> \n",
       "</tr>\n",
       "<tr>\n",
       "  <th>Method:</th>             <td>Least Squares</td>  <th>  F-statistic:       </th> <td>   674.1</td> \n",
       "</tr>\n",
       "<tr>\n",
       "  <th>Date:</th>             <td>Sun, 17 Sep 2023</td> <th>  Prob (F-statistic):</th>  <td>  0.00</td>  \n",
       "</tr>\n",
       "<tr>\n",
       "  <th>Time:</th>                 <td>21:31:51</td>     <th>  Log-Likelihood:    </th> <td> -12480.</td> \n",
       "</tr>\n",
       "<tr>\n",
       "  <th>No. Observations:</th>      <td>  1435</td>      <th>  AIC:               </th> <td>2.498e+04</td>\n",
       "</tr>\n",
       "<tr>\n",
       "  <th>Df Residuals:</th>          <td>  1423</td>      <th>  BIC:               </th> <td>2.505e+04</td>\n",
       "</tr>\n",
       "<tr>\n",
       "  <th>Df Model:</th>              <td>    11</td>      <th>                     </th>     <td> </td>    \n",
       "</tr>\n",
       "<tr>\n",
       "  <th>Covariance Type:</th>      <td>nonrobust</td>    <th>                     </th>     <td> </td>    \n",
       "</tr>\n",
       "</table>\n",
       "<table class=\"simpletable\">\n",
       "<tr>\n",
       "        <td></td>           <th>coef</th>     <th>std err</th>      <th>t</th>      <th>P>|t|</th>  <th>[0.025</th>    <th>0.975]</th>  \n",
       "</tr>\n",
       "<tr>\n",
       "  <th>Intercept</th>     <td> 1.264e+04</td> <td> 1504.906</td> <td>    8.401</td> <td> 0.000</td> <td> 9690.511</td> <td> 1.56e+04</td>\n",
       "</tr>\n",
       "<tr>\n",
       "  <th>Age_08_04</th>     <td> -136.4029</td> <td>    2.654</td> <td>  -51.387</td> <td> 0.000</td> <td> -141.610</td> <td> -131.196</td>\n",
       "</tr>\n",
       "<tr>\n",
       "  <th>KM</th>            <td>   -0.0198</td> <td>    0.001</td> <td>  -14.608</td> <td> 0.000</td> <td>   -0.023</td> <td>   -0.017</td>\n",
       "</tr>\n",
       "<tr>\n",
       "  <th>HP</th>            <td>   43.4170</td> <td>    2.979</td> <td>   14.573</td> <td> 0.000</td> <td>   37.573</td> <td>   49.261</td>\n",
       "</tr>\n",
       "<tr>\n",
       "  <th>cc</th>            <td>    0.1094</td> <td>    0.096</td> <td>    1.136</td> <td> 0.256</td> <td>   -0.080</td> <td>    0.298</td>\n",
       "</tr>\n",
       "<tr>\n",
       "  <th>Quarterly_Tax</th> <td>   15.8326</td> <td>    1.155</td> <td>   13.706</td> <td> 0.000</td> <td>   13.567</td> <td>   18.099</td>\n",
       "</tr>\n",
       "<tr>\n",
       "  <th>Doors_3</th>       <td> -714.4991</td> <td> 1031.232</td> <td>   -0.693</td> <td> 0.489</td> <td>-2737.397</td> <td> 1308.399</td>\n",
       "</tr>\n",
       "<tr>\n",
       "  <th>Doors_4</th>       <td> -684.6150</td> <td> 1037.214</td> <td>   -0.660</td> <td> 0.509</td> <td>-2719.248</td> <td> 1350.018</td>\n",
       "</tr>\n",
       "<tr>\n",
       "  <th>Doors_5</th>       <td> -391.3656</td> <td> 1031.718</td> <td>   -0.379</td> <td> 0.704</td> <td>-2415.218</td> <td> 1632.487</td>\n",
       "</tr>\n",
       "<tr>\n",
       "  <th>Gears_4</th>       <td> 2979.2018</td> <td> 1783.928</td> <td>    1.670</td> <td> 0.095</td> <td> -520.210</td> <td> 6478.614</td>\n",
       "</tr>\n",
       "<tr>\n",
       "  <th>Gears_5</th>       <td> 1660.4538</td> <td> 1030.657</td> <td>    1.611</td> <td> 0.107</td> <td> -361.316</td> <td> 3682.223</td>\n",
       "</tr>\n",
       "<tr>\n",
       "  <th>Gears_6</th>       <td> 2278.2297</td> <td> 1057.167</td> <td>    2.155</td> <td> 0.031</td> <td>  204.457</td> <td> 4352.002</td>\n",
       "</tr>\n",
       "</table>\n",
       "<table class=\"simpletable\">\n",
       "<tr>\n",
       "  <th>Omnibus:</th>       <td>219.376</td> <th>  Durbin-Watson:     </th> <td>   1.377</td> \n",
       "</tr>\n",
       "<tr>\n",
       "  <th>Prob(Omnibus):</th> <td> 0.000</td>  <th>  Jarque-Bera (JB):  </th> <td> 821.437</td> \n",
       "</tr>\n",
       "<tr>\n",
       "  <th>Skew:</th>          <td> 0.707</td>  <th>  Prob(JB):          </th> <td>4.24e-179</td>\n",
       "</tr>\n",
       "<tr>\n",
       "  <th>Kurtosis:</th>      <td> 6.426</td>  <th>  Cond. No.          </th> <td>4.87e+06</td> \n",
       "</tr>\n",
       "</table><br/><br/>Notes:<br/>[1] Standard Errors assume that the covariance matrix of the errors is correctly specified.<br/>[2] The condition number is large, 4.87e+06. This might indicate that there are<br/>strong multicollinearity or other numerical problems."
      ],
      "text/plain": [
       "<class 'statsmodels.iolib.summary.Summary'>\n",
       "\"\"\"\n",
       "                            OLS Regression Results                            \n",
       "==============================================================================\n",
       "Dep. Variable:                  Price   R-squared:                       0.839\n",
       "Model:                            OLS   Adj. R-squared:                  0.838\n",
       "Method:                 Least Squares   F-statistic:                     674.1\n",
       "Date:                Sun, 17 Sep 2023   Prob (F-statistic):               0.00\n",
       "Time:                        21:31:51   Log-Likelihood:                -12480.\n",
       "No. Observations:                1435   AIC:                         2.498e+04\n",
       "Df Residuals:                    1423   BIC:                         2.505e+04\n",
       "Df Model:                          11                                         \n",
       "Covariance Type:            nonrobust                                         \n",
       "=================================================================================\n",
       "                    coef    std err          t      P>|t|      [0.025      0.975]\n",
       "---------------------------------------------------------------------------------\n",
       "Intercept      1.264e+04   1504.906      8.401      0.000    9690.511    1.56e+04\n",
       "Age_08_04      -136.4029      2.654    -51.387      0.000    -141.610    -131.196\n",
       "KM               -0.0198      0.001    -14.608      0.000      -0.023      -0.017\n",
       "HP               43.4170      2.979     14.573      0.000      37.573      49.261\n",
       "cc                0.1094      0.096      1.136      0.256      -0.080       0.298\n",
       "Quarterly_Tax    15.8326      1.155     13.706      0.000      13.567      18.099\n",
       "Doors_3        -714.4991   1031.232     -0.693      0.489   -2737.397    1308.399\n",
       "Doors_4        -684.6150   1037.214     -0.660      0.509   -2719.248    1350.018\n",
       "Doors_5        -391.3656   1031.718     -0.379      0.704   -2415.218    1632.487\n",
       "Gears_4        2979.2018   1783.928      1.670      0.095    -520.210    6478.614\n",
       "Gears_5        1660.4538   1030.657      1.611      0.107    -361.316    3682.223\n",
       "Gears_6        2278.2297   1057.167      2.155      0.031     204.457    4352.002\n",
       "==============================================================================\n",
       "Omnibus:                      219.376   Durbin-Watson:                   1.377\n",
       "Prob(Omnibus):                  0.000   Jarque-Bera (JB):              821.437\n",
       "Skew:                           0.707   Prob(JB):                    4.24e-179\n",
       "Kurtosis:                       6.426   Cond. No.                     4.87e+06\n",
       "==============================================================================\n",
       "\n",
       "Notes:\n",
       "[1] Standard Errors assume that the covariance matrix of the errors is correctly specified.\n",
       "[2] The condition number is large, 4.87e+06. This might indicate that there are\n",
       "strong multicollinearity or other numerical problems.\n",
       "\"\"\""
      ]
     },
     "execution_count": 53,
     "metadata": {},
     "output_type": "execute_result"
    }
   ],
   "source": [
    "corollaMLR2.summary()"
   ]
  },
  {
   "cell_type": "code",
   "execution_count": 54,
   "id": "6cfec2c9",
   "metadata": {},
   "outputs": [],
   "source": [
    "corollapredictions = pd.concat([corolla['Price']],axis=1)"
   ]
  },
  {
   "cell_type": "code",
   "execution_count": 55,
   "id": "72eed28f",
   "metadata": {},
   "outputs": [],
   "source": [
    "corollapredictions['Predicted_values'] = corollaMLR1.predict(corolla)"
   ]
  },
  {
   "cell_type": "code",
   "execution_count": 56,
   "id": "ed6c4128",
   "metadata": {},
   "outputs": [
    {
     "data": {
      "text/html": [
       "<div>\n",
       "<style scoped>\n",
       "    .dataframe tbody tr th:only-of-type {\n",
       "        vertical-align: middle;\n",
       "    }\n",
       "\n",
       "    .dataframe tbody tr th {\n",
       "        vertical-align: top;\n",
       "    }\n",
       "\n",
       "    .dataframe thead th {\n",
       "        text-align: right;\n",
       "    }\n",
       "</style>\n",
       "<table border=\"1\" class=\"dataframe\">\n",
       "  <thead>\n",
       "    <tr style=\"text-align: right;\">\n",
       "      <th></th>\n",
       "      <th>Price</th>\n",
       "      <th>Predicted_values</th>\n",
       "    </tr>\n",
       "  </thead>\n",
       "  <tbody>\n",
       "    <tr>\n",
       "      <th>0</th>\n",
       "      <td>13500</td>\n",
       "      <td>16784.179980</td>\n",
       "    </tr>\n",
       "    <tr>\n",
       "      <th>1</th>\n",
       "      <td>13750</td>\n",
       "      <td>16244.980788</td>\n",
       "    </tr>\n",
       "    <tr>\n",
       "      <th>2</th>\n",
       "      <td>13950</td>\n",
       "      <td>16772.114948</td>\n",
       "    </tr>\n",
       "    <tr>\n",
       "      <th>3</th>\n",
       "      <td>14950</td>\n",
       "      <td>16398.111074</td>\n",
       "    </tr>\n",
       "    <tr>\n",
       "      <th>4</th>\n",
       "      <td>13750</td>\n",
       "      <td>16194.617395</td>\n",
       "    </tr>\n",
       "    <tr>\n",
       "      <th>...</th>\n",
       "      <td>...</td>\n",
       "      <td>...</td>\n",
       "    </tr>\n",
       "    <tr>\n",
       "      <th>1431</th>\n",
       "      <td>7500</td>\n",
       "      <td>8772.555587</td>\n",
       "    </tr>\n",
       "    <tr>\n",
       "      <th>1432</th>\n",
       "      <td>10845</td>\n",
       "      <td>8268.062804</td>\n",
       "    </tr>\n",
       "    <tr>\n",
       "      <th>1433</th>\n",
       "      <td>8500</td>\n",
       "      <td>8430.952349</td>\n",
       "    </tr>\n",
       "    <tr>\n",
       "      <th>1434</th>\n",
       "      <td>7250</td>\n",
       "      <td>8554.696918</td>\n",
       "    </tr>\n",
       "    <tr>\n",
       "      <th>1435</th>\n",
       "      <td>6950</td>\n",
       "      <td>10403.279382</td>\n",
       "    </tr>\n",
       "  </tbody>\n",
       "</table>\n",
       "<p>1435 rows × 2 columns</p>\n",
       "</div>"
      ],
      "text/plain": [
       "      Price  Predicted_values\n",
       "0     13500      16784.179980\n",
       "1     13750      16244.980788\n",
       "2     13950      16772.114948\n",
       "3     14950      16398.111074\n",
       "4     13750      16194.617395\n",
       "...     ...               ...\n",
       "1431   7500       8772.555587\n",
       "1432  10845       8268.062804\n",
       "1433   8500       8430.952349\n",
       "1434   7250       8554.696918\n",
       "1435   6950      10403.279382\n",
       "\n",
       "[1435 rows x 2 columns]"
      ]
     },
     "execution_count": 56,
     "metadata": {},
     "output_type": "execute_result"
    }
   ],
   "source": [
    "corollapredictions"
   ]
  },
  {
   "cell_type": "code",
   "execution_count": null,
   "id": "5ddcdbaa",
   "metadata": {},
   "outputs": [],
   "source": []
  }
 ],
 "metadata": {
  "kernelspec": {
   "display_name": "Python 3 (ipykernel)",
   "language": "python",
   "name": "python3"
  },
  "language_info": {
   "codemirror_mode": {
    "name": "ipython",
    "version": 3
   },
   "file_extension": ".py",
   "mimetype": "text/x-python",
   "name": "python",
   "nbconvert_exporter": "python",
   "pygments_lexer": "ipython3",
   "version": "3.9.12"
  }
 },
 "nbformat": 4,
 "nbformat_minor": 5
}
